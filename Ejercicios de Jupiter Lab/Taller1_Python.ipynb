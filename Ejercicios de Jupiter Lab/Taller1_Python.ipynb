{
 "cells": [
  {
   "cell_type": "code",
   "execution_count": 6,
   "id": "bb8067d0-8492-48c9-a4ad-7ed30b2225b4",
   "metadata": {
    "tags": []
   },
   "outputs": [
    {
     "name": "stdout",
     "output_type": "stream",
     "text": [
      "El valor de PI es aproximadamente: 3.142.\n"
     ]
    }
   ],
   "source": [
    "import math\n",
    "print(f'El valor de PI es aproximadamente: {math.pi:.3f}.')"
   ]
  },
  {
   "cell_type": "code",
   "execution_count": 5,
   "id": "8027d251-8928-4a97-90a4-45018a577767",
   "metadata": {
    "tags": []
   },
   "outputs": [
    {
     "name": "stdout",
     "output_type": "stream",
     "text": [
      "El valor de PI es aproximadamente: 3.1416\n"
     ]
    }
   ],
   "source": [
    "import math\n",
    "print(f'El valor de PI es aproximadamente: {math.pi:.4f}')"
   ]
  },
  {
   "cell_type": "code",
   "execution_count": 7,
   "id": "a2f19c45-cc8e-4659-ad08-486652e9a32f",
   "metadata": {},
   "outputs": [
    {
     "data": {
      "text/plain": [
       "'3.141593'"
      ]
     },
     "execution_count": 7,
     "metadata": {},
     "output_type": "execute_result"
    }
   ],
   "source": [
    "import math\n",
    "from math import pi\n",
    "f'{pi:4f}'"
   ]
  },
  {
   "cell_type": "code",
   "execution_count": 8,
   "id": "83ba28c5-3339-4ef6-ba36-cb97df6a2ef8",
   "metadata": {
    "tags": []
   },
   "outputs": [
    {
     "data": {
      "text/plain": [
       "2"
      ]
     },
     "execution_count": 8,
     "metadata": {},
     "output_type": "execute_result"
    }
   ],
   "source": [
    "17 % 5"
   ]
  },
  {
   "cell_type": "code",
   "execution_count": 9,
   "id": "5a384138-944f-4334-9073-0e5373736133",
   "metadata": {
    "tags": []
   },
   "outputs": [
    {
     "data": {
      "text/plain": [
       "0.5"
      ]
     },
     "execution_count": 9,
     "metadata": {},
     "output_type": "execute_result"
    }
   ],
   "source": [
    "7.5 % 3.5"
   ]
  },
  {
   "cell_type": "code",
   "execution_count": 10,
   "id": "b410bb78-81c1-4ee0-bd09-29b1ad506027",
   "metadata": {
    "tags": []
   },
   "outputs": [
    {
     "data": {
      "text/plain": [
       "5.333333333333333"
      ]
     },
     "execution_count": 10,
     "metadata": {},
     "output_type": "execute_result"
    }
   ],
   "source": [
    "16 / 3"
   ]
  },
  {
   "cell_type": "code",
   "execution_count": 11,
   "id": "02cf8c8c-5ab7-4b53-a1ba-a397bcfcb279",
   "metadata": {
    "tags": []
   },
   "outputs": [
    {
     "data": {
      "text/plain": [
       "5"
      ]
     },
     "execution_count": 11,
     "metadata": {},
     "output_type": "execute_result"
    }
   ],
   "source": [
    "16 // 3"
   ]
  },
  {
   "cell_type": "code",
   "execution_count": 19,
   "id": "55205a55-b998-4170-b12e-0778e40e8a0c",
   "metadata": {
    "tags": []
   },
   "outputs": [
    {
     "name": "stdout",
     "output_type": "stream",
     "text": [
      "El valor de PI es aproximadamente: 69.00\n"
     ]
    }
   ],
   "source": [
    "a = 2\n",
    "b = 3\n",
    "c = 4\n",
    "x = 5\n",
    "\n",
    "y = a * x**2 + b * x + c\n",
    "\n",
    "print(f'El valor de PI es aproximadamente: {y:.2f}')"
   ]
  },
  {
   "cell_type": "code",
   "execution_count": null,
   "id": "27e84e29-1eca-4507-982d-309e74550132",
   "metadata": {},
   "outputs": [],
   "source": []
  }
 ],
 "metadata": {
  "kernelspec": {
   "display_name": "Python 3 (ipykernel)",
   "language": "python",
   "name": "python3"
  },
  "language_info": {
   "codemirror_mode": {
    "name": "ipython",
    "version": 3
   },
   "file_extension": ".py",
   "mimetype": "text/x-python",
   "name": "python",
   "nbconvert_exporter": "python",
   "pygments_lexer": "ipython3",
   "version": "3.11.4"
  }
 },
 "nbformat": 4,
 "nbformat_minor": 5
}
