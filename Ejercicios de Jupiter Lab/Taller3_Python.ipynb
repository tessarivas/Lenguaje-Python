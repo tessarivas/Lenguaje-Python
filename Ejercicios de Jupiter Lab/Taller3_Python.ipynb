{
 "cells": [
  {
   "cell_type": "code",
   "execution_count": 1,
   "id": "7b617b34-ef80-47ad-94aa-c62b19801c3f",
   "metadata": {
    "tags": []
   },
   "outputs": [
    {
     "name": "stdin",
     "output_type": "stream",
     "text": [
      "Ingrese el primer número:  5\n",
      "Ingrese el segundo número:  2\n",
      "Ingrese el tercer número:  3\n"
     ]
    },
    {
     "name": "stdout",
     "output_type": "stream",
     "text": [
      "Los números en orden creciente son:  2.0 3.0 5.0\n"
     ]
    }
   ],
   "source": [
    "#Ejercicio 17\n",
    "\n",
    "num1 = float(input('Ingrese el primer número: '))\n",
    "num2 = float(input('Ingrese el segundo número: '))\n",
    "num3 = float(input('Ingrese el tercer número: '))\n",
    "\n",
    "smallest = num1\n",
    "if num2 < smallest:\n",
    "    smallest = num2\n",
    "if num3 < smallest:\n",
    "    smallest = num3\n",
    "\n",
    "\n",
    "largest = num1\n",
    "if num2 > largest:\n",
    "    largest = num2\n",
    "if num3 > largest:\n",
    "    largest = num3\n",
    "\n",
    "mid = num2;\n",
    "if num1 != smallest:\n",
    "    if num1 != largest:\n",
    "        mid = num1\n",
    "if num2 != smallest:\n",
    "    if num2 != largest:\n",
    "        mid = num2\n",
    "\n",
    "if num3 != smallest:\n",
    "    if num3 != largest:\n",
    "        mid = num3\n",
    "    \n",
    "print('Los números en orden creciente son: ', smallest, mid, largest)"
   ]
  },
  {
   "cell_type": "code",
   "execution_count": 2,
   "id": "46b5f115-22be-4b9c-b83e-a81128234d88",
   "metadata": {
    "tags": []
   },
   "outputs": [
    {
     "name": "stdin",
     "output_type": "stream",
     "text": [
      "Ingrese el primer número:  2\n",
      "Ingrese el segundo número:  9\n",
      "Ingrese el tercero número:  6\n"
     ]
    },
    {
     "name": "stdout",
     "output_type": "stream",
     "text": [
      "El orden de los números de forma ascendente son: 2.0 6.0 y 9.0\n"
     ]
    }
   ],
   "source": [
    "numero1 = float(input('Ingrese el primer número: '))\n",
    "numero2 = float(input('Ingrese el segundo número: '))\n",
    "numero3 = float(input('Ingrese el tercero número: '))\n",
    "\n",
    "if numero1 >= numero2:\n",
    "    if numero1 > numero3:\n",
    "        temp = numero3\n",
    "        numero3 = numero1\n",
    "        numero1 = temp\n",
    "        \n",
    "if numero2 >= numero1:\n",
    "    if numero2 > numero3:\n",
    "        temp = numero3\n",
    "        numero3 = numero2\n",
    "        numero2 = temp\n",
    "        \n",
    "if numero3 >= numero1:\n",
    "    if numero3 > numero2:\n",
    "        if numero2 < numero1:\n",
    "            temp = numero2\n",
    "            numero2 = numero1\n",
    "            numero1 = temp\n",
    "            \n",
    "print('El orden de los números de forma ascendente son:', numero1, numero2, 'y', numero3)"
   ]
  },
  {
   "cell_type": "code",
   "execution_count": 3,
   "id": "f9e26859-cc08-4416-b6d5-d67dab9031e3",
   "metadata": {
    "tags": []
   },
   "outputs": [
    {
     "name": "stdin",
     "output_type": "stream",
     "text": [
      "Ingrese el primer número:  8\n",
      "Ingrese el segundo número:  3\n",
      "Ingrese el tercero número:  6\n"
     ]
    },
    {
     "name": "stdout",
     "output_type": "stream",
     "text": [
      "El orden de los números de forma ascendente son: 3.0 6.0 y 8.0\n"
     ]
    }
   ],
   "source": [
    "numero1 = float(input('Ingrese el primer número: '))\n",
    "numero2 = float(input('Ingrese el segundo número: '))\n",
    "numero3 = float(input('Ingrese el tercero número: '))\n",
    "\n",
    "if numero1 >= numero2:\n",
    "    if numero1 > numero3:\n",
    "        temp = numero3\n",
    "        numero3 = numero1\n",
    "        numero1 = temp\n",
    "        \n",
    "if numero2 >= numero1:\n",
    "    if numero2 > numero3:\n",
    "        temp = numero3\n",
    "        numero3 = numero2\n",
    "        numero2 = temp\n",
    "        \n",
    "if numero3 >= numero1:\n",
    "    if numero3 > numero2:\n",
    "        if numero2 < numero1:\n",
    "            temp = numero2\n",
    "            numero2 = numero1\n",
    "            numero1 = temp\n",
    "            \n",
    "print('El orden de los números de forma ascendente son:', numero1, numero2, 'y', numero3)"
   ]
  },
  {
   "cell_type": "code",
   "execution_count": null,
   "id": "d85fe481-45ce-4318-8089-a71b3a19d198",
   "metadata": {},
   "outputs": [],
   "source": []
  }
 ],
 "metadata": {
  "kernelspec": {
   "display_name": "Python 3 (ipykernel)",
   "language": "python",
   "name": "python3"
  },
  "language_info": {
   "codemirror_mode": {
    "name": "ipython",
    "version": 3
   },
   "file_extension": ".py",
   "mimetype": "text/x-python",
   "name": "python",
   "nbconvert_exporter": "python",
   "pygments_lexer": "ipython3",
   "version": "3.11.4"
  }
 },
 "nbformat": 4,
 "nbformat_minor": 5
}
