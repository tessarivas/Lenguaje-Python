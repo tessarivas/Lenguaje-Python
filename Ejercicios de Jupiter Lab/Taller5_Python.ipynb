{
 "cells": [
  {
   "cell_type": "code",
   "execution_count": 5,
   "id": "1844e270-dab7-40b9-bf2c-409c1d19cf0c",
   "metadata": {
    "tags": []
   },
   "outputs": [
    {
     "name": "stdout",
     "output_type": "stream",
     "text": [
      "5050\n"
     ]
    }
   ],
   "source": [
    "total = 0\n",
    "\n",
    "for numero in range(101):\n",
    "    total = total + numero\n",
    "\n",
    "print(total)"
   ]
  },
  {
   "cell_type": "code",
   "execution_count": 39,
   "id": "ae001e77-33f5-4d79-a2d2-ed239caecf1f",
   "metadata": {
    "tags": []
   },
   "outputs": [
    {
     "name": "stdout",
     "output_type": "stream",
     "text": [
      "1\n",
      "2\n",
      "3\n",
      "4\n",
      "5\n",
      "\n",
      "1\n",
      "2\n",
      "3\n",
      "4\n",
      "5\n",
      "\n",
      "1\n",
      "2\n",
      "3\n",
      "4\n",
      "5\n"
     ]
    }
   ],
   "source": [
    "#26\n",
    "\n",
    "numero = 0\n",
    "for numero in [1, 2, 3, 4, 5]:\n",
    "    print(numero)\n",
    "    \n",
    "print('')\n",
    "    \n",
    "numero = 0\n",
    "for numero in range(5):\n",
    "    print(numero + 1)\n",
    "    \n",
    "print('')\n",
    "    \n",
    "numero = 0\n",
    "for numero in range(1, 6):\n",
    "    print(numero)"
   ]
  },
  {
   "cell_type": "code",
   "execution_count": 46,
   "id": "c939893a-460f-4830-9111-a56abef6f84b",
   "metadata": {
    "tags": []
   },
   "outputs": [
    {
     "name": "stdout",
     "output_type": "stream",
     "text": [
      "5\n",
      "4\n",
      "3\n",
      "2\n",
      "1\n",
      "\n",
      "5\n",
      "4\n",
      "3\n",
      "2\n",
      "1\n",
      "\n",
      "0\n",
      "1\n",
      "2\n",
      "3\n",
      "4\n",
      "5\n"
     ]
    }
   ],
   "source": [
    "# 27\n",
    "\n",
    "numero = 0\n",
    "for numero in \"54321\":\n",
    "    print(numero)\n",
    "    \n",
    "print('')\n",
    "\n",
    "numero = 0\n",
    "for numero in [5, 4, 3, 2, 1]:\n",
    "    print(numero)\n",
    "    \n",
    "print('')\n",
    "\n",
    "numero = 0\n",
    "for numero in range(6):\n",
    "    print(numero)"
   ]
  },
  {
   "cell_type": "code",
   "execution_count": 47,
   "id": "2101a486-4dff-4908-8b84-3767bbd17c5d",
   "metadata": {
    "tags": []
   },
   "outputs": [
    {
     "name": "stdout",
     "output_type": "stream",
     "text": [
      "1, 2, 3, 4, 5, \n",
      "1, 2, 3, 4, 5, \n",
      "1, 2, 3, 4, 5, "
     ]
    }
   ],
   "source": [
    "#28\n",
    "\n",
    "numero = 0\n",
    "for numero in [1, 2, 3, 4, 5]:\n",
    "    print(numero, end = ', ')\n",
    "      \n",
    "numero = 0\n",
    "for numero in range(5):\n",
    "    print(numero + 1, end = ', ')\n",
    "    \n",
    "ero = 0\n",
    "for numero in range(1, 6):\n",
    "    print(numero, end = ', ')"
   ]
  },
  {
   "cell_type": "code",
   "execution_count": null,
   "id": "cad74c63-fced-4994-b611-c5579676c34e",
   "metadata": {},
   "outputs": [],
   "source": [
    "#29"
   ]
  }
 ],
 "metadata": {
  "kernelspec": {
   "display_name": "Python 3 (ipykernel)",
   "language": "python",
   "name": "python3"
  },
  "language_info": {
   "codemirror_mode": {
    "name": "ipython",
    "version": 3
   },
   "file_extension": ".py",
   "mimetype": "text/x-python",
   "name": "python",
   "nbconvert_exporter": "python",
   "pygments_lexer": "ipython3",
   "version": "3.11.4"
  }
 },
 "nbformat": 4,
 "nbformat_minor": 5
}
