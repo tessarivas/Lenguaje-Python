{
 "cells": [
  {
   "cell_type": "code",
   "execution_count": null,
   "id": "c65f21bd-87a3-409f-8a98-c3bc8fd4e601",
   "metadata": {},
   "outputs": [],
   "source": [
    "# TERESA RIVAS GOMEZ\n",
    "# 372565"
   ]
  },
  {
   "cell_type": "code",
   "execution_count": 2,
   "id": "6fd5638d-9750-4c86-ac66-528037c1cf2e",
   "metadata": {
    "tags": []
   },
   "outputs": [
    {
     "name": "stdout",
     "output_type": "stream",
     "text": [
      "x = 2\n",
      "Value of 2 + 2 is 4\n",
      "x =\n",
      "7 x = 7\n"
     ]
    }
   ],
   "source": [
    "# EJERCICIO 1\n",
    "# Crear las variables:\n",
    "x = 2\n",
    "y = 5\n",
    "print('x =', x)\n",
    "print('Value of', x, '+', x, 'is', (x + x))\n",
    "print('x =')\n",
    "print((x + y), 'x =', (y + x))"
   ]
  },
  {
   "cell_type": "code",
   "execution_count": 13,
   "id": "05487ef4-7c51-4885-b6b7-706f880a3042",
   "metadata": {
    "tags": []
   },
   "outputs": [
    {
     "name": "stdin",
     "output_type": "stream",
     "text": [
      "Ingrese una calificacion entre 1 y 100:  92\n"
     ]
    }
   ],
   "source": [
    "# EJERCICIO 2\n",
    "# ¿Qué hay de malo con este código?, Debe leer un entero en la variable calificación:\n",
    "# Flataba agregar int para determinar que solo son validos enteros.\n",
    "calificacion = int(input('Ingrese una calificacion entre 1 y 100: '))"
   ]
  },
  {
   "cell_type": "code",
   "execution_count": 18,
   "id": "1a74ea8c-78f8-4d0b-86a5-6ecffc2dcf04",
   "metadata": {
    "tags": []
   },
   "outputs": [
    {
     "name": "stdout",
     "output_type": "stream",
     "text": [
      "¡Felicitaciones! Tu calificación de 92 te otorga una A en este curso.\n"
     ]
    }
   ],
   "source": [
    "# EJERCICIO 3\n",
    "# Reemplace *** en el siguiente código con una sentencia que imprimirá un mensaje como ‘¡Felicitaciones! Tu calificación \n",
    "# de 91 te otorga una A en este curso‘. Su declaración debe imprimir el valor almacenado en la variable calificación:\n",
    "\n",
    "if calificacion >= 90:\n",
    "    print('¡Felicitaciones! Tu calificación de', calificacion, 'te otorga una A en este curso.')"
   ]
  },
  {
   "cell_type": "code",
   "execution_count": 16,
   "id": "ab4b5038-e3d1-4f1a-8af1-587fe08807a1",
   "metadata": {
    "tags": []
   },
   "outputs": [
    {
     "name": "stdout",
     "output_type": "stream",
     "text": [
      "Radio:  2\n",
      "Pi:  3.14159\n",
      "Diametro:  4\n",
      "Circunferencia:  12.56636\n",
      "Area:  12.56636\n"
     ]
    }
   ],
   "source": [
    "# EJERCICIO 4\n",
    "# (Área, diámetro y circunferencia del círculo) Para un círculo de radio 2, muestre el diámetro, la circunferencia y el área.\n",
    "# Utilice el valor 3,14159 para π. Utilice las siguientes fórmulas (r es el radio): diámetro = 2r, circunferencia = 2πr y área = π r2.\n",
    "radio = 2\n",
    "pi = 3.14159\n",
    "\n",
    "Diametro = 2 * radio\n",
    "Circunferencia = 2 * pi * radio\n",
    "Area = pi * (radio**2)\n",
    "\n",
    "print(f'Radio: {radio: .0f}')\n",
    "print(f'Pi: {pi: .5f}')\n",
    "print(f'Diametro: {Diametro: .0f}')\n",
    "print(f'Circunferencia: {Circunferencia: .5f}')\n",
    "print(f'Area: {Area: .5f}')"
   ]
  },
  {
   "cell_type": "code",
   "execution_count": 29,
   "id": "711d2921-799a-485e-b972-031412253872",
   "metadata": {
    "tags": []
   },
   "outputs": [
    {
     "name": "stdin",
     "output_type": "stream",
     "text": [
      "Ingrese un numero entero para evaluar si es par o impar:  59\n"
     ]
    },
    {
     "name": "stdout",
     "output_type": "stream",
     "text": [
      "59 es impar.\n"
     ]
    }
   ],
   "source": [
    "# EJERCICIO 5\n",
    "# Utilice sentencias if para determinar si un número entero es par o impar. [Sugerencia: utilice el operador residuo. \n",
    "# Un número par es múltiplo de 2. Cualquier múltiplo de 2 deja un residuo de 0 cuando se divide por 2.\n",
    "numero = int(input('Ingrese un numero entero para evaluar si es par o impar: '))\n",
    "\n",
    "if numero % 2 == 0:\n",
    "    print(numero, 'es par.')\n",
    "if numero % 2 != 0:\n",
    "    print(numero, 'es impar.')"
   ]
  },
  {
   "cell_type": "code",
   "execution_count": 32,
   "id": "4afac5d0-4c34-47a4-8e88-1e82faf0f692",
   "metadata": {
    "tags": []
   },
   "outputs": [
    {
     "name": "stdin",
     "output_type": "stream",
     "text": [
      "Ingrese el primer entero:  1024\n",
      "Ingrese el segundo entero:  4\n"
     ]
    },
    {
     "name": "stdout",
     "output_type": "stream",
     "text": [
      "1024 es multiplo de 4\n"
     ]
    }
   ],
   "source": [
    "# EJERCICIO 6\n",
    "# Utilice sentencias if para determinar si 1024 es múltiplo de 4 y si 2 es múltiplo de 10. (Sugerencia: utilice el\n",
    "# operador de residuo).\n",
    "\n",
    "x = int(input('Ingrese el primer entero: '))\n",
    "y = int(input('Ingrese el segundo entero: '))\n",
    "\n",
    "if x % y == 0:\n",
    "    print(x,\"es multiplo de\",y)\n",
    "if x % y != 0:\n",
    "    print(x,\"no es multiplo de\",y)"
   ]
  },
  {
   "cell_type": "code",
   "execution_count": 41,
   "id": "6741d54c-d390-48de-a982-fb5cc29f1e77",
   "metadata": {
    "tags": []
   },
   "outputs": [
    {
     "name": "stdout",
     "output_type": "stream",
     "text": [
      "numero \t cuadrado   cubo\n",
      "0 \t 0 \t   0\n",
      "1 \t 1 \t   1\n",
      "2 \t 4 \t   8\n",
      "3 \t 9 \t   27\n",
      "4 \t 16 \t   64\n",
      "5 \t 25 \t   125\n"
     ]
    }
   ],
   "source": [
    "# EJERCICIO 7\n",
    "# Escriba un guión(script) que calcule los cuadrados y cubos de los números del 0 al 5. Imprima los valores\n",
    "# resultantes en formato de tabla, como se muestra a continuación. Utilice la secuencia de escape de tabulación \n",
    "# para lograr el resultado de tres columnas.\n",
    "\n",
    "print('numero', '\\t', 'cuadrado', ' ', 'cubo')\n",
    "print('0', '\\t', 0**2, '\\t', ' ', 0**3)\n",
    "print('1', '\\t', 1**2, '\\t', ' ', 1**3)\n",
    "print('2', '\\t', 2**2, '\\t', ' ', 2**3)\n",
    "print('3', '\\t', 3**2, '\\t', ' ', 3**3)\n",
    "print('4', '\\t', 4**2, '\\t', ' ', 4**3)\n",
    "print('5', '\\t', 5**2, '\\t', ' ', 5**3)"
   ]
  },
  {
   "cell_type": "code",
   "execution_count": 44,
   "id": "4b41d02d-74bd-45c2-ad5a-0b9105b4a6cb",
   "metadata": {
    "tags": []
   },
   "outputs": [
    {
     "name": "stdout",
     "output_type": "stream",
     "text": [
      " numero  cuadrado   cubo\n",
      "      0         0      0\n",
      "      1         1      1\n",
      "      2         4      8\n",
      "      3         9     27\n",
      "      4        16     64\n",
      "      5        25    125\n"
     ]
    }
   ],
   "source": [
    "# EJERCICIO 8\n",
    "# Muestra cómo \"alinear a la derecha\" los números. Podrías intentarlo aquí como un reto extra. La salida sería:\n",
    "# Pista: Podrías usar los “Literales de cadena formateados”(también llamados f-strings para abreviar).\n",
    "\n",
    "print(f'{\"numero\":>7} {\"cuadrado\":>9} {\"cubo\":>6}')\n",
    "print(f'{0:>7} {0**2:>9} {0**3:>6}')\n",
    "print(f'{1:>7} {1**2:>9} {1**3:>6}')\n",
    "print(f'{2:>7} {2**2:>9} {2**3:>6}')\n",
    "print(f'{3:>7} {3**2:>9} {3**3:>6}')\n",
    "print(f'{4:>7} {4**2:>9} {4**3:>6}')\n",
    "print(f'{5:>7} {5**2:>9} {5**3:>6}')"
   ]
  }
 ],
 "metadata": {
  "kernelspec": {
   "display_name": "Python 3 (ipykernel)",
   "language": "python",
   "name": "python3"
  },
  "language_info": {
   "codemirror_mode": {
    "name": "ipython",
    "version": 3
   },
   "file_extension": ".py",
   "mimetype": "text/x-python",
   "name": "python",
   "nbconvert_exporter": "python",
   "pygments_lexer": "ipython3",
   "version": "3.11.4"
  }
 },
 "nbformat": 4,
 "nbformat_minor": 5
}
