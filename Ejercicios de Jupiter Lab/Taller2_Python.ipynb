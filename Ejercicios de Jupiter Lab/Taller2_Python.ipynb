{
 "cells": [
  {
   "cell_type": "code",
   "execution_count": 4,
   "id": "617e157b-a5ec-456e-9bc9-017463f98bfd",
   "metadata": {
    "tags": []
   },
   "outputs": [
    {
     "name": "stdout",
     "output_type": "stream",
     "text": [
      "Esta es una cadena\n"
     ]
    }
   ],
   "source": [
    "print('Esta es una cadena')"
   ]
  },
  {
   "cell_type": "code",
   "execution_count": 5,
   "id": "14d16cd6-7d07-4ebc-8625-e91aaa49f6b4",
   "metadata": {
    "tags": []
   },
   "outputs": [
    {
     "data": {
      "text/plain": [
       "str"
      ]
     },
     "execution_count": 5,
     "metadata": {},
     "output_type": "execute_result"
    }
   ],
   "source": [
    "type('word')"
   ]
  },
  {
   "cell_type": "code",
   "execution_count": 6,
   "id": "40e9355c-3b42-44bb-ba28-bcff57852ddc",
   "metadata": {
    "tags": []
   },
   "outputs": [
    {
     "name": "stdout",
     "output_type": "stream",
     "text": [
      "int(5.2) truncates 5.2 to 5\n"
     ]
    }
   ],
   "source": [
    "print('int(5.2)', 'truncates 5.2 to', int(5.2))"
   ]
  },
  {
   "cell_type": "code",
   "execution_count": 7,
   "id": "b20212d2-7ab9-430a-8eb4-81337855e2d5",
   "metadata": {
    "tags": []
   },
   "outputs": [
    {
     "name": "stdout",
     "output_type": "stream",
     "text": [
      "Mostrar comillas \"a\"\n"
     ]
    }
   ],
   "source": [
    "print('Mostrar comillas \"a\"')"
   ]
  },
  {
   "cell_type": "code",
   "execution_count": 8,
   "id": "30545c85-fd8a-496e-9a78-60410e3bd5b7",
   "metadata": {
    "tags": []
   },
   "outputs": [
    {
     "name": "stdout",
     "output_type": "stream",
     "text": [
      "Mostrar comillas 'a'\n"
     ]
    }
   ],
   "source": [
    "print('Mostrar comillas \\'a\\'')"
   ]
  },
  {
   "cell_type": "code",
   "execution_count": 10,
   "id": "246987f8-d2fb-4b1e-af3f-47b1caf660b7",
   "metadata": {
    "tags": []
   },
   "outputs": [
    {
     "name": "stdout",
     "output_type": "stream",
     "text": [
      " Mostrar \"Hola\" y 'Hola' entre comillas \n"
     ]
    }
   ],
   "source": [
    "print(\"\"\" Mostrar \"Hola\" y 'Hola' entre comillas \"\"\")"
   ]
  },
  {
   "cell_type": "code",
   "execution_count": 18,
   "id": "b2502125-e22a-4a52-af93-c571b23995b5",
   "metadata": {
    "tags": []
   },
   "outputs": [],
   "source": [
    "entre_comillas_triples = \"\"\"Esta es una cadena con comillas triple\"\"\""
   ]
  },
  {
   "cell_type": "code",
   "execution_count": 19,
   "id": "b95265e7-2f76-44c8-a774-bf192220e265",
   "metadata": {
    "tags": []
   },
   "outputs": [
    {
     "name": "stdout",
     "output_type": "stream",
     "text": [
      "Esta es una cadena con comillas triple\n"
     ]
    }
   ],
   "source": [
    "print(entre_comillas_triples)"
   ]
  },
  {
   "cell_type": "code",
   "execution_count": 20,
   "id": "a7903a91-c7f7-48bb-b8cb-6598d5190673",
   "metadata": {
    "tags": []
   },
   "outputs": [
    {
     "data": {
      "text/plain": [
       "'Esta es una cadena con comillas triple'"
      ]
     },
     "execution_count": 20,
     "metadata": {},
     "output_type": "execute_result"
    }
   ],
   "source": [
    "entre_comillas_triples"
   ]
  },
  {
   "cell_type": "code",
   "execution_count": 21,
   "id": "e77bfa21-2308-49b5-96b2-16746659b1e8",
   "metadata": {
    "tags": []
   },
   "outputs": [
    {
     "name": "stdin",
     "output_type": "stream",
     "text": [
      "what's your name?? \"'Paul'\"\n"
     ]
    },
    {
     "data": {
      "text/plain": [
       "\"'Paul'\""
      ]
     },
     "execution_count": 21,
     "metadata": {},
     "output_type": "execute_result"
    }
   ],
   "source": [
    "name = input(\"what's your name??\")"
   ]
  },
  {
   "cell_type": "code",
   "execution_count": 22,
   "id": "5414f394-8fcb-4678-91ad-4884a60dfde0",
   "metadata": {
    "tags": []
   },
   "outputs": [
    {
     "data": {
      "text/plain": [
       "'\"\\'Paul\\'\"'"
      ]
     },
     "execution_count": 22,
     "metadata": {},
     "output_type": "execute_result"
    }
   ],
   "source": [
    "name"
   ]
  },
  {
   "cell_type": "code",
   "execution_count": 23,
   "id": "2779205a-dcc6-42fb-bf65-142c20c2964e",
   "metadata": {
    "tags": []
   },
   "outputs": [
    {
     "name": "stdin",
     "output_type": "stream",
     "text": [
      "Ingresar un entero:  7\n"
     ]
    }
   ],
   "source": [
    "valor = input('Ingresar un entero: ')"
   ]
  },
  {
   "cell_type": "code",
   "execution_count": 24,
   "id": "40ad6ceb-f9e0-4893-909b-9aea40aa7aeb",
   "metadata": {
    "tags": []
   },
   "outputs": [
    {
     "data": {
      "text/plain": [
       "'7'"
      ]
     },
     "execution_count": 24,
     "metadata": {},
     "output_type": "execute_result"
    }
   ],
   "source": [
    "valor"
   ]
  },
  {
   "cell_type": "code",
   "execution_count": 25,
   "id": "e20172a6-c0c9-45a5-ba59-5abecdd840a0",
   "metadata": {
    "tags": []
   },
   "outputs": [
    {
     "data": {
      "text/plain": [
       "6.2"
      ]
     },
     "execution_count": 25,
     "metadata": {},
     "output_type": "execute_result"
    }
   ],
   "source": [
    "float('6.2')"
   ]
  },
  {
   "cell_type": "code",
   "execution_count": 26,
   "id": "1af0fe11-09dc-429b-a102-6318b07df0f1",
   "metadata": {
    "tags": []
   },
   "outputs": [
    {
     "data": {
      "text/plain": [
       "20.46"
      ]
     },
     "execution_count": 26,
     "metadata": {},
     "output_type": "execute_result"
    }
   ],
   "source": [
    "float('6.2') * 3.3"
   ]
  },
  {
   "cell_type": "code",
   "execution_count": 27,
   "id": "8a9f24fd-14ca-4919-94a6-6e1f41b580e1",
   "metadata": {
    "tags": []
   },
   "outputs": [
    {
     "data": {
      "text/plain": [
       "True"
      ]
     },
     "execution_count": 27,
     "metadata": {},
     "output_type": "execute_result"
    }
   ],
   "source": [
    "7 > 4"
   ]
  },
  {
   "cell_type": "code",
   "execution_count": 28,
   "id": "529ca15a-8152-47f9-b900-a980e1e089a3",
   "metadata": {
    "tags": []
   },
   "outputs": [
    {
     "data": {
      "text/plain": [
       "False"
      ]
     },
     "execution_count": 28,
     "metadata": {},
     "output_type": "execute_result"
    }
   ],
   "source": [
    "7 < 4"
   ]
  },
  {
   "cell_type": "code",
   "execution_count": 31,
   "id": "daa4b799-ad32-4414-829d-fcb60d75ba73",
   "metadata": {
    "tags": []
   },
   "outputs": [
    {
     "data": {
      "text/plain": [
       "True"
      ]
     },
     "execution_count": 31,
     "metadata": {},
     "output_type": "execute_result"
    }
   ],
   "source": [
    "10 == 10"
   ]
  },
  {
   "cell_type": "code",
   "execution_count": 33,
   "id": "721ec6a4-1fee-4e32-ae64-c916b059e52d",
   "metadata": {
    "tags": []
   },
   "outputs": [
    {
     "data": {
      "text/plain": [
       "True"
      ]
     },
     "execution_count": 33,
     "metadata": {},
     "output_type": "execute_result"
    }
   ],
   "source": [
    "value = 7\n",
    "4 <= value <= 12"
   ]
  },
  {
   "cell_type": "code",
   "execution_count": 34,
   "id": "a8e0ccd2-619d-4416-9cdb-2bec19270f12",
   "metadata": {
    "tags": []
   },
   "outputs": [
    {
     "name": "stdout",
     "output_type": "stream",
     "text": [
      "Ingrese dos números enteros y te diré las relaciones que satisfacen.\n"
     ]
    },
    {
     "name": "stdin",
     "output_type": "stream",
     "text": [
      "Ingrese el primer número entero:  2\n",
      "Ingrese el segundo número entero:  3\n"
     ]
    },
    {
     "name": "stdout",
     "output_type": "stream",
     "text": [
      "2 no es igual a 3\n",
      "2 es menor que 3\n",
      "2 es menor o igual que 3\n"
     ]
    }
   ],
   "source": [
    "#codigo_python_1.py\n",
    "\"\"\"Comparar números enteros usando sentencias if y operadores de comparación.\"\"\"\n",
    "\n",
    "print('Ingrese dos números enteros y te diré', 'las relaciones que satisfacen.')\n",
    "\n",
    "#lee el primer entero\n",
    "numero1 = int(input('Ingrese el primer número entero: '))\n",
    "\n",
    "#Lee el segundo entero\n",
    "numero2 = int(input('Ingrese el segundo número entero: '))\n",
    "\n",
    "if numero1 == numero2:\n",
    "    print(numero1, 'es igual a', numero2)\n",
    "    \n",
    "if numero1 != numero2:\n",
    "    print(numero1, 'no es igual a', numero2)\n",
    "    \n",
    "if numero1 < numero2:\n",
    "    print(numero1, 'es menor que', numero2)\n",
    "    \n",
    "if numero1 > numero2:\n",
    "    print(numero1, 'es mayor que', numero2)\n",
    "    \n",
    "if numero1 <= numero2:\n",
    "    print(numero1, 'es menor o igual que', numero2)\n",
    "\n",
    "if numero1 >= numero2:\n",
    "    print(numero1, 'es mayor o igual que', numero2)\n"
   ]
  },
  {
   "cell_type": "code",
   "execution_count": null,
   "id": "b7528e49-e179-42cb-b88f-4579b8109170",
   "metadata": {},
   "outputs": [],
   "source": []
  }
 ],
 "metadata": {
  "kernelspec": {
   "display_name": "Python 3 (ipykernel)",
   "language": "python",
   "name": "python3"
  },
  "language_info": {
   "codemirror_mode": {
    "name": "ipython",
    "version": 3
   },
   "file_extension": ".py",
   "mimetype": "text/x-python",
   "name": "python",
   "nbconvert_exporter": "python",
   "pygments_lexer": "ipython3",
   "version": "3.11.4"
  }
 },
 "nbformat": 4,
 "nbformat_minor": 5
}
