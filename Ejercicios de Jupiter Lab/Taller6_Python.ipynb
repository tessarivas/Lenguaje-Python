{
 "cells": [
  {
   "cell_type": "code",
   "execution_count": 1,
   "id": "09569196-a709-4015-9939-1d9f7dd696bf",
   "metadata": {},
   "outputs": [
    {
     "name": "stdout",
     "output_type": "stream",
     "text": [
      "144\n"
     ]
    }
   ],
   "source": [
    "#variable\n",
    "x = 12\n",
    "#exponente\n",
    "x2 = x ** 2\n",
    "#imprimir\n",
    "print(x2)"
   ]
  },
  {
   "cell_type": "code",
   "execution_count": 4,
   "id": "d7c06df5-b346-4f06-a580-55dab7321db3",
   "metadata": {
    "tags": []
   },
   "outputs": [
    {
     "name": "stdout",
     "output_type": "stream",
     "text": [
      "El promedio es 81.7\n"
     ]
    }
   ],
   "source": [
    "#establecer total en 0\n",
    "total = 0\n",
    "#establecer contador de calificacion en 0\n",
    "contador_calificacion = 0\n",
    "#establecer calificaciones en una lista de 10 calificaciones\n",
    "calificaciones = [98,76,71,87,83,90,57,79,82,94]\n",
    "#para cada calificacionen la lista, sumar calificacion a total\n",
    "for calificacion in calificaciones:\n",
    "    total = total + calificacion\n",
    "    #sumar uno al contador de calificacion\n",
    "    contador_calificacion = contador_calificacion + 1\n",
    "#promedio\n",
    "promedio = total / contador_calificacion\n",
    "print(f'El promedio es {promedio}')"
   ]
  },
  {
   "cell_type": "code",
   "execution_count": 10,
   "id": "be50359e-f249-4556-838c-b1780eb5719a",
   "metadata": {
    "tags": []
   },
   "outputs": [
    {
     "name": "stdin",
     "output_type": "stream",
     "text": [
      "Ingrese la calificacion: 99\n",
      "Ingrese la calificacion: 99\n",
      "Ingrese la calificacion: 102\n"
     ]
    },
    {
     "name": "stdout",
     "output_type": "stream",
     "text": [
      "El promedio es 99.00\n"
     ]
    }
   ],
   "source": [
    "total = int(0)\n",
    "contador_calificacion = int(0)\n",
    "\n",
    "calificacion = int(input('Ingrese la calificacion:'))\n",
    "\n",
    "while calificacion <= 100:\n",
    "        total = total + calificacion\n",
    "        contador_calificacion = contador_calificacion + 1\n",
    "        calificacion = int(input('Ingrese la calificacion:'))\n",
    "\n",
    "if contador_calificacion != 0:\n",
    "    promedio = total / contador_calificacion\n",
    "    print(f'El promedio es {promedio:.2f}')\n",
    "else:\n",
    "    print('No se ingresaron calificaciones')"
   ]
  },
  {
   "cell_type": "code",
   "execution_count": 12,
   "id": "69ff42c4-81ac-4f59-9413-8155522bc450",
   "metadata": {
    "tags": []
   },
   "outputs": [
    {
     "name": "stdin",
     "output_type": "stream",
     "text": [
      "Ingrese la calificacion, -1 para salir: 102\n",
      "Ingrese la calificacion, -1 para salir: 101\n",
      "Ingrese la calificacion, -1 para salir: 99\n",
      "Ingrese la calificacion, -1 para salir: 63\n",
      "Ingrese la calificacion, -1 para salir: -1\n"
     ]
    },
    {
     "name": "stdout",
     "output_type": "stream",
     "text": [
      "El promedio es 91.25\n"
     ]
    }
   ],
   "source": [
    "total = 0\n",
    "contador_calificacion = 0\n",
    "\n",
    "calificacion = int(input('Ingrese la calificacion, -1 para salir:'))\n",
    "\n",
    "while calificacion != -1:\n",
    "        total = total + calificacion\n",
    "        contador_calificacion = contador_calificacion + 1\n",
    "        calificacion = int(input('Ingrese la calificacion, -1 para salir:'))\n",
    "\n",
    "if contador_calificacion != 0:\n",
    "    promedio = total / contador_calificacion\n",
    "    print(f'El promedio es {promedio:.2f}')\n",
    "else:\n",
    "    print('No se ingresaron calificaciones')"
   ]
  },
  {
   "cell_type": "code",
   "execution_count": 21,
   "id": "6b792fdc-6df4-475b-b8a0-b3227cf5292b",
   "metadata": {
    "tags": []
   },
   "outputs": [
    {
     "name": "stdout",
     "output_type": "stream",
     "text": [
      "ESCRIBE 1 SI APROVASTE\n",
      "ESCRIBE 2 SI NO APROVASTE\n",
      "\n"
     ]
    },
    {
     "name": "stdin",
     "output_type": "stream",
     "text": [
      "Ingresar resultado: 1\n",
      "Ingresar resultado: 1\n",
      "Ingresar resultado: 1\n",
      "Ingresar resultado: 1\n",
      "Ingresar resultado: 1\n",
      "Ingresar resultado: 2\n",
      "Ingresar resultado: 1\n",
      "Ingresar resultado: 1\n",
      "Ingresar resultado: 1\n",
      "Ingresar resultado: 1\n",
      "Ingresar resultado: 1\n"
     ]
    },
    {
     "name": "stdout",
     "output_type": "stream",
     "text": [
      "\n",
      "Aprobados:9\n",
      "Reprobados:1\n",
      "Bonificar al Instructor\n"
     ]
    }
   ],
   "source": [
    "print('ESCRIBE 1 SI APROVASTE')\n",
    "print('ESCRIBE 2 SI NO APROVASTE')\n",
    "print()\n",
    "\n",
    "resultados = int(input('Ingresar resultado:'))\n",
    "\n",
    "aprobados = 0\n",
    "reprobados = 0\n",
    "\n",
    "for resultados in range(10):\n",
    "    resultados = int(input('Ingresar resultado:'))\n",
    "    if resultados == 1:\n",
    "        aprobados = aprobados + 1\n",
    "    else:\n",
    "        reprobados = reprobados + 1\n",
    "        \n",
    "print()        \n",
    "print(f'Aprobados:{aprobados}')\n",
    "print(f'Reprobados:{reprobados}')\n",
    "\n",
    "if aprobados >= 8:\n",
    "    print('Bonificar al Instructor')"
   ]
  },
  {
   "cell_type": "code",
   "execution_count": 26,
   "id": "a39a329b-cfff-41ae-9469-60c2cab3a40c",
   "metadata": {
    "tags": []
   },
   "outputs": [
    {
     "name": "stdin",
     "output_type": "stream",
     "text": [
      "Introduzca un entero: 10\n"
     ]
    },
    {
     "name": "stdout",
     "output_type": "stream",
     "text": [
      "10 es par\n"
     ]
    },
    {
     "name": "stdin",
     "output_type": "stream",
     "text": [
      "Introduzca un entero: 7\n"
     ]
    },
    {
     "name": "stdout",
     "output_type": "stream",
     "text": [
      "7 es impar\n"
     ]
    }
   ],
   "source": [
    "for enteros in range(2):\n",
    "    enteros = int(input('Introduzca un entero:'))\n",
    "    if enteros % 2 == 0:\n",
    "        print(f'{enteros} es par')\n",
    "    else:\n",
    "        print(f'{enteros} es impar')"
   ]
  },
  {
   "cell_type": "code",
   "execution_count": 29,
   "id": "ba69f2ba-3d21-4424-b4e2-d8b874ba8888",
   "metadata": {
    "tags": []
   },
   "outputs": [
    {
     "name": "stdout",
     "output_type": "stream",
     "text": [
      "99 88 77 66 55 44 33 22 11 0 "
     ]
    }
   ],
   "source": [
    "for numero in range(99, -1, -11):\n",
    "    print(numero, end = ' ')"
   ]
  },
  {
   "cell_type": "code",
   "execution_count": 38,
   "id": "7ccfd148-a4d5-4376-bee7-69dfa3d0373e",
   "metadata": {
    "tags": []
   },
   "outputs": [
    {
     "name": "stdout",
     "output_type": "stream",
     "text": [
      "2550\n"
     ]
    }
   ],
   "source": [
    "resultado = 0\n",
    "\n",
    "for numero in range(0, 101, 2):\n",
    "    resultado = resultado + numero\n",
    "print(resultado)"
   ]
  },
  {
   "cell_type": "code",
   "execution_count": null,
   "id": "dd62e562-5027-44b4-b950-447ccdec3cbf",
   "metadata": {},
   "outputs": [],
   "source": []
  }
 ],
 "metadata": {
  "kernelspec": {
   "display_name": "Python 3 (ipykernel)",
   "language": "python",
   "name": "python3"
  },
  "language_info": {
   "codemirror_mode": {
    "name": "ipython",
    "version": 3
   },
   "file_extension": ".py",
   "mimetype": "text/x-python",
   "name": "python",
   "nbconvert_exporter": "python",
   "pygments_lexer": "ipython3",
   "version": "3.11.4"
  }
 },
 "nbformat": 4,
 "nbformat_minor": 5
}
