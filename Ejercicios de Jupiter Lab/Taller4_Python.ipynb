{
 "cells": [
  {
   "cell_type": "code",
   "execution_count": 6,
   "id": "ae5ff89d-c8c5-4fff-a6c8-29258c6700ce",
   "metadata": {
    "tags": []
   },
   "outputs": [
    {
     "name": "stdin",
     "output_type": "stream",
     "text": [
      "Ingrese un numero entero para evaluar si es par o impar:  8\n"
     ]
    },
    {
     "name": "stdout",
     "output_type": "stream",
     "text": [
      "El numero entero 8 es par.\n"
     ]
    }
   ],
   "source": [
    "# EJERCICIO 5\n",
    "# Utilice sentencias if para determinar si un número entero es par o impar. [Sugerencia: utilice el operador residuo. \n",
    "# Un número par es múltiplo de 2. Cualquier múltiplo de 2 deja un residuo de 0 cuando se divide por 2.\n",
    "\n",
    "numero = int(input('Ingrese un numero entero para evaluar si es par o impar: '))\n",
    "\n",
    "if numero % 2 == 0:\n",
    "    print('El numero entero', numero, 'es par.')\n",
    "else:\n",
    "    print('El numero entero', numero, 'es impar.')"
   ]
  },
  {
   "cell_type": "code",
   "execution_count": 24,
   "id": "f209b859-5503-44f8-ac38-34253741b284",
   "metadata": {
    "tags": []
   },
   "outputs": [
    {
     "name": "stdin",
     "output_type": "stream",
     "text": [
      "Ingrese el primer entero:  1024\n",
      "Ingrese el segundo entero:  4\n"
     ]
    },
    {
     "name": "stdout",
     "output_type": "stream",
     "text": [
      "4 es multiplo de 1024\n"
     ]
    }
   ],
   "source": [
    "# EJERCICIO 6\n",
    "# Utilice sentencias if para determinar si 1024 es múltiplo de 4 y si 2 es múltiplo de 10. (Sugerencia: utilice el\n",
    "# operador de residuo).\n",
    "\n",
    "x = int(input('Ingrese el primer entero: '))\n",
    "y = int(input('Ingrese el segundo entero: '))\n",
    "\n",
    "\n",
    "menor = min(x, y)\n",
    "mayor = max(x, y)\n",
    "\n",
    "if mayor % menor == 0:\n",
    "    print(menor,\"es multiplo de\",mayor)\n",
    "else:\n",
    "    print(menor,\"no es multiplo de\",mayor)"
   ]
  },
  {
   "cell_type": "code",
   "execution_count": 20,
   "id": "28fcc3e1-9247-4c0a-bf07-d4e529aca58c",
   "metadata": {
    "tags": []
   },
   "outputs": [
    {
     "name": "stdin",
     "output_type": "stream",
     "text": [
      "Ingrese el primer entero:  3\n",
      "Ingrese el segundo entero:  3\n",
      "Ingrese el tercer entero:  9\n"
     ]
    },
    {
     "name": "stdout",
     "output_type": "stream",
     "text": [
      "NO IGUALES\n"
     ]
    }
   ],
   "source": [
    "x = int(input('Ingrese el primer entero: '))\n",
    "y = int(input('Ingrese el segundo entero: '))\n",
    "z = int(input('Ingrese el tercer entero: '))\n",
    "\n",
    "if x == y == z:\n",
    "    print('IGUALES')\n",
    "else:\n",
    "    print('NO IGUALES') "
   ]
  },
  {
   "cell_type": "code",
   "execution_count": 32,
   "id": "f0df21b8-df51-465f-a431-5a7db5b8c1ea",
   "metadata": {
    "tags": []
   },
   "outputs": [
    {
     "name": "stdin",
     "output_type": "stream",
     "text": [
      "Ingrese la calificacion:  85\n"
     ]
    },
    {
     "name": "stdout",
     "output_type": "stream",
     "text": [
      "B\n"
     ]
    }
   ],
   "source": [
    "cali = int(input('Ingrese la calificacion: '))\n",
    "\n",
    "if cali >= 90:\n",
    "    print('A')\n",
    "elif cali >= 80:\n",
    "    print('B')\n",
    "elif cali >= 70:\n",
    "    print('C')\n",
    "elif cali >= 60:\n",
    "    print('D')\n",
    "else:\n",
    "    print('F')"
   ]
  },
  {
   "cell_type": "code",
   "execution_count": null,
   "id": "53d8232b-4a1d-4e26-9315-2c990ec26177",
   "metadata": {},
   "outputs": [],
   "source": []
  }
 ],
 "metadata": {
  "kernelspec": {
   "display_name": "Python 3 (ipykernel)",
   "language": "python",
   "name": "python3"
  },
  "language_info": {
   "codemirror_mode": {
    "name": "ipython",
    "version": 3
   },
   "file_extension": ".py",
   "mimetype": "text/x-python",
   "name": "python",
   "nbconvert_exporter": "python",
   "pygments_lexer": "ipython3",
   "version": "3.11.4"
  }
 },
 "nbformat": 4,
 "nbformat_minor": 5
}
