{
 "cells": [
  {
   "cell_type": "code",
   "execution_count": 1,
   "id": "be84a19b-c6a0-4f06-b6a4-1c8fa87ab9cb",
   "metadata": {
    "tags": []
   },
   "outputs": [
    {
     "name": "stdout",
     "output_type": "stream",
     "text": [
      "100.00\n"
     ]
    }
   ],
   "source": [
    "from decimal import Decimal\n",
    "\n",
    "capital = Decimal('100.00')\n",
    "print(capital)"
   ]
  },
  {
   "cell_type": "code",
   "execution_count": 5,
   "id": "f54ed331-15a5-4ebe-b89c-c3a33ac55709",
   "metadata": {
    "tags": []
   },
   "outputs": [
    {
     "data": {
      "text/plain": [
       "Decimal('3')"
      ]
     },
     "execution_count": 5,
     "metadata": {},
     "output_type": "execute_result"
    }
   ],
   "source": [
    "from decimal import Decimal\n",
    "\n",
    "x = Decimal('10.5')\n",
    "y = Decimal('2')\n",
    "\n",
    "x + y\n",
    "x // 3"
   ]
  },
  {
   "cell_type": "code",
   "execution_count": 16,
   "id": "52a362f9-9681-4508-b064-96151df87c78",
   "metadata": {
    "tags": []
   },
   "outputs": [
    {
     "name": "stdout",
     "output_type": "stream",
     "text": [
      "Año 1: 1050.00\n",
      "Año 2: 1102.50\n",
      "Año 3: 1157.62\n",
      "Año 4: 1215.51\n",
      "Año 5: 1276.28\n",
      "Año 6: 1340.10\n",
      "Año 7: 1407.10\n",
      "Año 8: 1477.46\n",
      "Año 9: 1551.33\n",
      "Año 10: 1628.89\n"
     ]
    }
   ],
   "source": [
    "from decimal import Decimal\n",
    "\n",
    "# $1,000 en cuenta de ahorron con el 5% de interes durante 10 años\n",
    "p = Decimal('1000') # monto incial\n",
    "r = Decimal('.05') # interes\n",
    "n = Decimal('10') # años\n",
    "\n",
    "a = p\n",
    "\n",
    "# Interes dejado en la cuenta, calcular y mostrar la cantidad de dinero \n",
    "# en la cuenta al final de cada año, durante 10 años.\n",
    "\n",
    "for anio in range(1, int(n) + 1):\n",
    "    a = a * (1 + r)\n",
    "    print(f'Año {anio}: {a:.2f}')"
   ]
  },
  {
   "cell_type": "code",
   "execution_count": 30,
   "id": "8bb0fef6-41de-401c-b699-9db0dabf00b1",
   "metadata": {
    "tags": []
   },
   "outputs": [
    {
     "name": "stdout",
     "output_type": "stream",
     "text": [
      "1   ->   1050.00\n",
      "2   ->   1102.50\n",
      "3   ->   1157.63\n",
      "4   ->   1215.51\n",
      "5   ->   1276.28\n",
      "6   ->   1340.10\n",
      "7   ->   1407.10\n",
      "8   ->   1477.46\n",
      "9   ->   1551.33\n",
      "10  ->   1628.89\n"
     ]
    }
   ],
   "source": [
    "capital = 1000\n",
    "tasa = 0.05\n",
    "\n",
    "for anio in range(1, 11):\n",
    "    cantidad = capital * (1 + tasa) ** anio\n",
    "    print(f'{anio:<2}  ->{cantidad:>10.2f}')"
   ]
  },
  {
   "cell_type": "code",
   "execution_count": null,
   "id": "5e4790ad-7205-4487-b869-6572b0b0f090",
   "metadata": {},
   "outputs": [],
   "source": []
  }
 ],
 "metadata": {
  "kernelspec": {
   "display_name": "Python 3 (ipykernel)",
   "language": "python",
   "name": "python3"
  },
  "language_info": {
   "codemirror_mode": {
    "name": "ipython",
    "version": 3
   },
   "file_extension": ".py",
   "mimetype": "text/x-python",
   "name": "python",
   "nbconvert_exporter": "python",
   "pygments_lexer": "ipython3",
   "version": "3.11.4"
  }
 },
 "nbformat": 4,
 "nbformat_minor": 5
}
