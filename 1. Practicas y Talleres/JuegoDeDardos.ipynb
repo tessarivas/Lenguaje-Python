{
 "cells": [
  {
   "cell_type": "code",
   "execution_count": 5,
   "id": "341cbb47-f5a8-4501-ba49-e54bc9d3b5f7",
   "metadata": {},
   "outputs": [
    {
     "name": "stdin",
     "output_type": "stream",
     "text": [
      "¿Cuánto quieres apostar?  500\n",
      "Presiona Enter para lanzar los dardos... \n"
     ]
    },
    {
     "name": "stdout",
     "output_type": "stream",
     "text": [
      "Obtuviste 8 puntos!\n",
      "Tu saldo actual es: $1500.00\n"
     ]
    },
    {
     "name": "stdin",
     "output_type": "stream",
     "text": [
      "¿Cuánto quieres apostar?  1500\n",
      "Presiona Enter para lanzar los dardos... \n"
     ]
    },
    {
     "name": "stdout",
     "output_type": "stream",
     "text": [
      "Obtuviste 13 puntos!\n",
      "Tu saldo actual es: $0.00\n",
      "¡Te quedaste sin saldo! Juego terminado.\n",
      "¡Gracias por jugar!\n"
     ]
    }
   ],
   "source": [
    "import random\n",
    "\n",
    "saldo_jugador = 1000.00\n",
    "\n",
    "def lanzar_dardos():\n",
    "    puntuacion = random.randint(1, 60)\n",
    "    return puntuacion\n",
    "\n",
    "def mostrar_resultado(puntos):\n",
    "    print(f\"Obtuviste {puntos} puntos!\")\n",
    "\n",
    "def calcular_ganancia_apuesta(apuesta, resultado):\n",
    "    if resultado == 'Ganó':\n",
    "        return apuesta\n",
    "    else:\n",
    "        return -apuesta\n",
    "\n",
    "def mostrar_saldo(saldo):\n",
    "    print(f'Tu saldo actual es: ${saldo:.2f}')\n",
    "\n",
    "while saldo_jugador > 0:\n",
    "    apuesta = float(input(\"¿Cuánto quieres apostar? \"))\n",
    "    if apuesta > saldo_jugador:\n",
    "        print(\"No puedes apostar más de tu saldo actual.\")\n",
    "        continue\n",
    "    \n",
    "    input(\"Presiona Enter para lanzar los dardos...\")\n",
    "    puntuacion_lanzamiento = lanzar_dardos()\n",
    "    mostrar_resultado(puntuacion_lanzamiento)\n",
    "\n",
    "    if puntuacion_lanzamiento % 2 == 0:\n",
    "        resultado = 'Ganó'\n",
    "    else:\n",
    "        resultado = 'Perdió'\n",
    "\n",
    "    ganancia = calcular_ganancia_apuesta(apuesta, resultado)\n",
    "    saldo_jugador += ganancia\n",
    "    mostrar_saldo(saldo_jugador)\n",
    "        \n",
    "    if saldo_jugador == 0:\n",
    "        print(\"¡Te quedaste sin saldo! Juego terminado.\")\n",
    "        break\n",
    "\n",
    "    if resultado == 'Perdió':\n",
    "        print(\"¡Perdiste esta vez! Mejor suerte la próxima.\")\n",
    "\n",
    "print(\"¡Gracias por jugar!\")"
   ]
  },
  {
   "cell_type": "code",
   "execution_count": null,
   "id": "a3420325-6095-4465-9f4e-a8c24d525f8b",
   "metadata": {},
   "outputs": [],
   "source": []
  }
 ],
 "metadata": {
  "kernelspec": {
   "display_name": "Python 3 (ipykernel)",
   "language": "python",
   "name": "python3"
  },
  "language_info": {
   "codemirror_mode": {
    "name": "ipython",
    "version": 3
   },
   "file_extension": ".py",
   "mimetype": "text/x-python",
   "name": "python",
   "nbconvert_exporter": "python",
   "pygments_lexer": "ipython3",
   "version": "3.11.4"
  }
 },
 "nbformat": 4,
 "nbformat_minor": 5
}
