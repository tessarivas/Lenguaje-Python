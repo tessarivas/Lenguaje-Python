{
 "cells": [
  {
   "cell_type": "code",
   "execution_count": 17,
   "id": "6798168a-0b72-4321-b4d4-6705ddff6c16",
   "metadata": {
    "tags": []
   },
   "outputs": [
    {
     "name": "stdout",
     "output_type": "stream",
     "text": [
      "Menu:\n",
      "1. Agregar un estudiante\n",
      "2. Buscar un estudiante por numero de identificacion\n",
      "3. Mostrar todos los estudiantes registrados\n",
      "4. Eliminar un estudiante\n",
      "5. Salir\n"
     ]
    },
    {
     "name": "stdin",
     "output_type": "stream",
     "text": [
      "Seleccione una opcion(1/2/3/4/5):  5\n"
     ]
    },
    {
     "name": "stdout",
     "output_type": "stream",
     "text": [
      "----------------------------------------------------\n",
      "¡Hasta luego!\n",
      "Menu:\n",
      "1. Agregar un estudiante\n",
      "2. Buscar un estudiante por numero de identificacion\n",
      "3. Mostrar todos los estudiantes registrados\n",
      "4. Eliminar un estudiante\n",
      "5. Salir\n"
     ]
    },
    {
     "name": "stdin",
     "output_type": "stream",
     "text": [
      "Seleccione una opcion(1/2/3/4/5):  6\n"
     ]
    },
    {
     "name": "stdout",
     "output_type": "stream",
     "text": [
      "----------------------------------------------------\n"
     ]
    }
   ],
   "source": [
    "''' \n",
    "Crear un script de python para registrar información de estudiantes. \n",
    "Cada estudiante debe tener los siguiente datos:\n",
    "Nombre Completo\n",
    "Número de Identificación\n",
    "Debes diseñar un diccionario que almacene esta información para varios \n",
    "estudiantes. Crea un diccionario vacío para almacenar los estudiantes. \n",
    "Implementa un menú interactivo que permita al usuario seleccionar las opciones.\n",
    "'''\n",
    "# Diccionario\n",
    "diccionario_estudiante = {}\n",
    "\n",
    "def agregar():\n",
    "    numero = input('Ingrese el numero de identificacion del estudiante: ')\n",
    "    nombre = input('Ingrese el nombre completo del estudiante: ')\n",
    "    edad = input('Ingrese la edad del estudiante: ')\n",
    "    if numero in diccionario_estudiante:\n",
    "        print(\"El estudiante ya esta registrado.\")\n",
    "    else:\n",
    "        diccionario_estudiante[numero] = {\n",
    "            'NOMBRE': nombre, \n",
    "            'EDAD': edad\n",
    "        }\n",
    "        print('Estudiante agregado correctamente.')\n",
    "\n",
    "def buscar():\n",
    "    numero = input('Ingrese el numero de identificacion del estudiante: ')\n",
    "    if numero in diccionario_estudiante:\n",
    "        print('Nombre completo del estudiante:', diccionario_estudiante[numero]['NOMBRE'])\n",
    "        print('Edad del estudinate:', diccionario_estudiante[numero]['EDAD'])\n",
    "    else:\n",
    "        print('Estudiante no encontrado.')\n",
    "\n",
    "def mostrar():\n",
    "    for numero, estudiante in diccionario_estudiante.items():\n",
    "        print('Numero de Identificación:', numero)\n",
    "        print('Nombre del estudiante:', estudiante['NOMBRE'])\n",
    "        print('Edad del estudiante:', estudiante['EDAD'])\n",
    "\n",
    "def eliminar():\n",
    "    numero = input('Ingrese el numero de identificacion del estudiante: ')\n",
    "    if numero in diccionario_estudiante:\n",
    "        del diccionario_estudiante[numero]\n",
    "        print('Estudiante eliminado correctamente.')\n",
    "    else:\n",
    "        print('Estudiante no encontrado.')\n",
    "    \n",
    "# Menu Principal\n",
    "print(\"Menu:\")\n",
    "print(\"1. Agregar un estudiante\")\n",
    "print(\"2. Buscar un estudiante por numero de identificacion\")\n",
    "print(\"3. Mostrar todos los estudiantes registrados\")\n",
    "print(\"4. Eliminar un estudiante\")\n",
    "print(\"5. Salir\")\n",
    "opcion = int(input(\"Seleccione una opcion(1/2/3/4/5): \"))\n",
    "print('----------------------------------------------------')\n",
    "    \n",
    "while (opcion != 5):\n",
    "    if (opcion == 1):\n",
    "        # Agregar un Estudiante: Permite al usuario ingresar los datos de un\n",
    "        # estudiante y agregarlos al diccionario.\n",
    "        print(\"- AGREGAR ESTUDIANTE - \")\n",
    "        agregar()\n",
    "        print('----------------------------------------------------')\n",
    "\n",
    "    elif (opcion == 2):\n",
    "        # Buscar un Estudiante por Número de Identificación: El usuario debe\n",
    "        # ingresar un número de identificación y el programa debe mostrar los\n",
    "        # datos del estudiante correspondiente.\n",
    "        print(\"- BUSCAR ESTUDIANTE - \")\n",
    "        buscar()\n",
    "        print('----------------------------------------------------')\n",
    "        \n",
    "    elif (opcion == 3):\n",
    "        # Mostrar Todos los Estudiantes Registrados: Muestra todos los estudiantes\n",
    "        # y sus datos almacenados en el diccionario.\n",
    "        print(\"- MOSTRAR ESTUDIANTES - \")\n",
    "        mostrar()\n",
    "        print('----------------------------------------------------')\n",
    "        \n",
    "    elif(opcion == 4):\n",
    "        # Eliminar un Estudiante: Pide al usuario ingresar un número de\n",
    "        # identificación y elimina al estudiante correspondiente del diccionario.\n",
    "        print(\"- ELIMINAR ESTUDIANTE - \")\n",
    "        eliminar()\n",
    "        print('----------------------------------------------------')\n",
    "        \n",
    "    else:\n",
    "        break\n",
    "        \n",
    "    # Ciclar el menu\n",
    "    print(\"Menu:\")\n",
    "    print(\"1. Agregar un estudiante\")\n",
    "    print(\"2. Buscar un estudiante por numero de identificacion\")\n",
    "    print(\"3. Mostrar todos los estudiantes registrados\")\n",
    "    print(\"4. Eliminar un estudiante\")\n",
    "    print(\"5. Salir\")\n",
    "    opcion = int(input(\"Seleccione una opcion(1/2/3/4/5): \"))\n",
    "    print('----------------------------------------------------')"
   ]
  },
  {
   "cell_type": "code",
   "execution_count": 4,
   "id": "b6082c6f-8b73-4133-be21-af59d888c07a",
   "metadata": {},
   "outputs": [
    {
     "name": "stdout",
     "output_type": "stream",
     "text": [
      "El cuadrado del primer termino, mas el doble producto del primero por el segundo, mas el cuadrado segundo.\n",
      "\n",
      "PALABRA\t\tCONTADOR\n",
      "el        \t4\n",
      "cuadrado  \t2\n",
      "del       \t2\n",
      "primer    \t1\n",
      "termino   \t1\n",
      "mas       \t2\n",
      "doble     \t1\n",
      "producto  \t1\n",
      "primero   \t1\n",
      "por       \t1\n",
      "segundo   \t2\n",
      "\n",
      "Número de palabras únicas: 11\n"
     ]
    }
   ],
   "source": [
    "'''\n",
    "Contar y mostrar el número de palabras que se encuentran en una cadena.\n",
    "ver el archivo Numero de palabras unicar.py\n",
    "'''\n",
    "\n",
    "def contar_palabras(texto):\n",
    "    # Dividir la cadena en palabras\n",
    "    palabras = texto.split()\n",
    "    # Crear diccionario\n",
    "    contador = {}\n",
    "    # Contar las palabras\n",
    "    for palabra in palabras:\n",
    "        # Eliminar signos\n",
    "        palabra = palabra.strip(\",.\")\n",
    "        # Convertir la palabra a minusculas\n",
    "        palabra = palabra.lower()\n",
    "        # Contador\n",
    "        contador[palabra] = contador.get(palabra, 0) + 1 \n",
    "    print(\"PALABRA\\t\\tCONTADOR\")\n",
    "    for palabra, cantidad in contador.items():\n",
    "        print(f\"{palabra.ljust(10)}\\t{cantidad}\")\n",
    "    # Total de palabras\n",
    "    print(\"\\nNúmero de palabras únicas:\", len(contador))\n",
    "\n",
    "# Imprimir\n",
    "texto = \"El cuadrado del primer termino, mas el doble producto del primero por el segundo, mas el cuadrado segundo.\"\n",
    "print(texto)\n",
    "print()\n",
    "contar_palabras(texto)"
   ]
  },
  {
   "cell_type": "code",
   "execution_count": null,
   "id": "c2537bf9-7e98-4859-83a9-b8561a5f27b5",
   "metadata": {},
   "outputs": [],
   "source": []
  }
 ],
 "metadata": {
  "kernelspec": {
   "display_name": "Python 3 (ipykernel)",
   "language": "python",
   "name": "python3"
  },
  "language_info": {
   "codemirror_mode": {
    "name": "ipython",
    "version": 3
   },
   "file_extension": ".py",
   "mimetype": "text/x-python",
   "name": "python",
   "nbconvert_exporter": "python",
   "pygments_lexer": "ipython3",
   "version": "3.11.4"
  }
 },
 "nbformat": 4,
 "nbformat_minor": 5
}
