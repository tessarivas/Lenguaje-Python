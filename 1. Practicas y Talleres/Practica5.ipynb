{
 "cells": [
  {
   "cell_type": "code",
   "execution_count": 17,
   "id": "7415f1d5-0e4e-4e36-b563-3c031bb253e7",
   "metadata": {
    "tags": []
   },
   "outputs": [
    {
     "name": "stdout",
     "output_type": "stream",
     "text": [
      "Horas \t Número de bacterias\n",
      "0 \t 200\n",
      "5 \t 6400\n",
      "10 \t 204800\n",
      "15 \t 6553600\n",
      "\n",
      "\n",
      "Horas    Número de bacterias\n",
      "    0                    200\n",
      "    5                   6400\n",
      "   10                 204800\n",
      "   15                6553600\n"
     ]
    }
   ],
   "source": [
    "# PRACTICA 5\n",
    "# Ejercicio 30: Tabla con número de bacterias\n",
    "'''Comenzando con 200 bacterias, el crecimiento en el número de bacterias\n",
    "después de n horas se calcula de la siguiente manera: B = 200 × 2n. Imprima la\n",
    "cantidad de bacterias después de 0, 5, 10 y 15 horas en formato de tabla como\n",
    "se muestra a continuación. Utilice la secuencia de escape de tabulación para\n",
    "lograr el resultado de dos columnas.'''\n",
    "\n",
    "print('Horas', '\\t', 'Número de bacterias')\n",
    "for horas in [0, 5, 10, 15]:\n",
    "    B = 200 * (2 ** horas)\n",
    "    print(horas,'\\t',B)\n",
    "    \n",
    "print('\\n')\n",
    "    \n",
    "print(f'{\"Horas\":>5} {\"Número de bacterias\":>22}')\n",
    "for horas in [0, 5, 10, 15]:\n",
    "    B = 200 * (2 ** horas)\n",
    "    print(f'{horas:>5} {B:>22}')"
   ]
  },
  {
   "cell_type": "code",
   "execution_count": 50,
   "id": "e9c00077-058d-4859-b306-9c775899b1f2",
   "metadata": {},
   "outputs": [
    {
     "name": "stdin",
     "output_type": "stream",
     "text": [
      "Ingrese una cantidad de segundos:  3750\n"
     ]
    },
    {
     "name": "stdout",
     "output_type": "stream",
     "text": [
      "1 - 2 - 30\n"
     ]
    }
   ],
   "source": [
    "# Ejercicio 31: Cálculo del tiempo(sin bucle o ciclo)\n",
    "'''Escriba un script que ingrese una cantidad de segundos desde el usuario.\n",
    "Calcula el número de horas, minutos y segundos restantes. Imprímelos\n",
    "separados por “-”. Por ejemplo, si el usuario escribe 3750 segundos como\n",
    "entrada, el script debería imprimir:\n",
    "\n",
    "1 - 2 - 30\n",
    "\n",
    "Supongamos que el usuario ingresa una cantidad de segundos superior a 3600.\n",
    "Utilice tanto la división de piso como la operación residuo para calcular la\n",
    "cantidad de horas, minutos y segundos.'''\n",
    "\n",
    "segundos_totales = int(input('Ingrese una cantidad de segundos: '))\n",
    "\n",
    "horas = segundos_totales // 3600\n",
    "minutos = (segundos_totales % 3600) // 60\n",
    "segundos = segundos_totales % 60\n",
    "\n",
    "print(f'{horas} - {minutos} - {segundos}') "
   ]
  },
  {
   "cell_type": "code",
   "execution_count": 60,
   "id": "fe620ec7-c8b7-484f-b0a7-c63a04b43bea",
   "metadata": {
    "tags": []
   },
   "outputs": [
    {
     "name": "stdin",
     "output_type": "stream",
     "text": [
      "Ingrese una cantidad de segundos:  3750\n"
     ]
    },
    {
     "name": "stdout",
     "output_type": "stream",
     "text": [
      "1 - 2 - 30\n"
     ]
    },
    {
     "name": "stdin",
     "output_type": "stream",
     "text": [
      "Ingrese una cantidad de segundos (o ingrese 0 para salir):  0\n"
     ]
    }
   ],
   "source": [
    "# Ejercicio 32: Cálculo del tiempo(con bucle o ciclo)\n",
    "'''Escriba un script que ingrese una cantidad de segundos desde el usuario.\n",
    "Calcula el número de horas, minutos y segundos restantes. Imprímelos\n",
    "separados por “-”. Por ejemplo, si el usuario escribe 3750 segundos como\n",
    "entrada, el script debería imprimir:\n",
    "\n",
    "1 - 2 - 30\n",
    "\n",
    "Supongamos que el usuario ingresa una cantidad de segundos superior a 3600.\n",
    "Utilice tanto la división de piso como la operación residuo para calcular la\n",
    "cantidad de horas, minutos y segundos.'''\n",
    "\n",
    "segundos_totales = int(input('Ingrese una cantidad de segundos: '))\n",
    "\n",
    "while segundos_totales > 0:\n",
    "    horas = segundos_totales // 3600\n",
    "    minutos = (segundos_totales % 3600) // 60\n",
    "    segundos = segundos_totales % 60\n",
    "\n",
    "    print(f'{horas} - {minutos} - {segundos}')\n",
    "\n",
    "    segundos_totales = int(input('Ingrese una cantidad de segundos (o ingrese 0 para salir): '))"
   ]
  },
  {
   "cell_type": "code",
   "execution_count": 3,
   "id": "4096c3bd-7620-4b16-ba61-38f511bfd52b",
   "metadata": {
    "tags": []
   },
   "outputs": [
    {
     "name": "stdin",
     "output_type": "stream",
     "text": [
      "Ingrese un entero positivo para saber si es un número perfecto:  28\n"
     ]
    },
    {
     "name": "stdout",
     "output_type": "stream",
     "text": [
      "El número 28 es un número perfecto.\n"
     ]
    }
   ],
   "source": [
    "# Ejercicio 33: Números perfectos\n",
    "'''En teoría de números, un número perfecto es un número entero positivo que\n",
    "es igual a la suma de sus divisores. Los pitagóricos estudiaron por primera vez\n",
    "los números perfectos, quienes pensaban que tenían propiedades místicas.\n",
    "También fueron ampliamente estudiados por los griegos (incluido Euclides) por\n",
    "sus propiedades numerológicas.\n",
    "\n",
    "El número perfecto más pequeño es 6, porque 6 = 3 + 2 + 1, siendo 3, 2 y 1 los\n",
    "divisores. Otros ejemplos de números perfectos son: 28, 496 y 8128. Escriba un\n",
    "script que ingrese un número entero no negativo y muestre si es un número\n",
    "perfecto o no.'''\n",
    "\n",
    "numero = int(input('Ingrese un entero positivo para saber si es un número perfecto: '))\n",
    "\n",
    "suma_divisores = 0\n",
    "for i in range(1, numero):\n",
    "    if numero % i == 0:\n",
    "        suma_divisores = suma_divisores + i\n",
    "\n",
    "if suma_divisores == numero:\n",
    "    print(f'El número {numero} es un número perfecto.')\n",
    "else:\n",
    "    print(f'El número {numero} no es un número perfecto.')"
   ]
  },
  {
   "cell_type": "code",
   "execution_count": 9,
   "id": "8eb89b15-b326-44d7-b720-1e765a968cae",
   "metadata": {
    "tags": []
   },
   "outputs": [
    {
     "name": "stdin",
     "output_type": "stream",
     "text": [
      "Ingrese el número binario: 1101\n"
     ]
    },
    {
     "name": "stdout",
     "output_type": "stream",
     "text": [
      "El número binario 1101 en decimal es 13.\n"
     ]
    }
   ],
   "source": [
    "# Ejercicio 34: Conversión de binario a decimal\n",
    "'''Ingrese un número entero que contenga 0 y 1 (es decir, un número entero\n",
    "“binario”) y muestre su equivalente decimal. [Sugerencia: utilice los\n",
    "operadores de residuo y división(o división de piso) para seleccionar los dígitos\n",
    "del número \"binario\" uno a la vez, de derecha a izquierda. Así como en el\n",
    "sistema numérico decimal, donde el dígito más a la derecha tiene el valor\n",
    "posicional 1 y el siguiente dígito a la izquierda tiene el valor posicional 10,\n",
    "luego 100, luego 1000, etc., en el sistema numérico binario, el dígito más a la\n",
    "derecha tiene el valor posicional 1, el siguiente dígito a la izquierda tiene el\n",
    "valor posicional 2, luego 4, luego 8, etc. Por lo tanto, el número decimal 234 se\n",
    "puede interpretar como 2 * 100 + 3 * 10 + 4 * 1. El decimal equivalente del\n",
    "binario 1101 es 1 * 8 + 1 * 4 + 0 * 2 + 1 * 1.] NOTA: No utilizar la función\n",
    "reversed().'''\n",
    "\n",
    "binario = input('Ingrese el número binario:')\n",
    "\n",
    "decimal = 0\n",
    "\n",
    "for i in range(len(binario)):\n",
    "    bit = int(binario[i])\n",
    "    posicional = 2 ** (len(binario) - i - 1)\n",
    "    decimal = decimal + (bit * posicional)\n",
    "\n",
    "print(f'El número binario {binario} en decimal es {decimal}.')"
   ]
  },
  {
   "cell_type": "code",
   "execution_count": 10,
   "id": "7f37b20d-4ba9-49c5-84f0-a8d48d0e41ee",
   "metadata": {
    "tags": []
   },
   "outputs": [
    {
     "name": "stdin",
     "output_type": "stream",
     "text": [
      "Ingrese un número entero positivo:  10\n"
     ]
    },
    {
     "name": "stdout",
     "output_type": "stream",
     "text": [
      "El numero entero 0 en binario es 1010\n"
     ]
    }
   ],
   "source": [
    "# Ejercicio 35: Conversión de decimal a binario(resolver con while)\n",
    "'''Ingrese un número(es decir, un entero positivo) y muestre su equivalente en\n",
    "binario. [Sugerencia: utilice los operadores de residuo y división(o división de\n",
    "piso) para seleccionar los dígitos del número entero uno a la vez, de derecha a\n",
    "izquierda. Por lo tanto, el número decimal 234 se puede interpretar como 2 *\n",
    "100 + 3 * 10 + 4 * 1. El decimal equivalente del binario 1101 es 1 * 8 + 1 * 4 + 0\n",
    "* 2 + 1 * 1.] NOTA: No utilizar la función reversed().'''\n",
    "\n",
    "decimal = int(input('Ingrese un número entero positivo:'))\n",
    "\n",
    "binario = ''\n",
    "\n",
    "while decimal > 0:\n",
    "    residuo = decimal % 2\n",
    "    binario = str(residuo) + binario # esto lo investigue porque no me salia\n",
    "    decimal = decimal // 2\n",
    "\n",
    "print(f'El numero entero {decimal} en binario es {binario}')"
   ]
  },
  {
   "cell_type": "code",
   "execution_count": 28,
   "id": "a4a07fa8-67da-4653-9094-376366f9a344",
   "metadata": {
    "tags": []
   },
   "outputs": [
    {
     "name": "stdout",
     "output_type": "stream",
     "text": [
      "\n"
     ]
    }
   ],
   "source": [
    "# Ejercicio 36: Capicúa\n",
    "'''Capicúa es un término que hace referencia a aquel número que resulta\n",
    "idéntico cuando se lee de derecha a izquierda y de izquierda a derecha.\n",
    "Implemente un script donde el usuario ingrese un número entero positivo y\n",
    "determine si es capicúa o no. Por ejemplo la matrícula del maestro es 311113\n",
    "por lo tanto es capicúa!\n",
    "Sugerencia: Los operadores // y % le podrían ayudar.\n",
    "NOTA: No utilizar la función reversed().'''\n",
    "\n",
    "numero = input('Ingrese un número para determinar si es capicúa o no:')\n",
    "\n",
    "es_capicua = 1\n",
    "longitud = len(numero)\n",
    "\n",
    "for i in range(longitud // 2):\n",
    "    if numero[i] != numero[longitud - i - 1]:\n",
    "        es_capicua = 0\n",
    "\n",
    "if es_capicua:\n",
    "    print(f'El número {numero} es capicúa!')\n",
    "else:\n",
    "    print(f'El número {numero} no es capicúa')"
   ]
  },
  {
   "cell_type": "code",
   "execution_count": 13,
   "id": "8550f962-c31e-40e7-9eb5-e134dc395451",
   "metadata": {
    "tags": []
   },
   "outputs": [
    {
     "name": "stdin",
     "output_type": "stream",
     "text": [
      "Ingrese la palabra o frase para determinar si es pálindromo o no: anita lava la tina\n"
     ]
    },
    {
     "name": "stdout",
     "output_type": "stream",
     "text": [
      "La palabra o frase es palíndrome!\n"
     ]
    }
   ],
   "source": [
    "# Ejercicio 37: Palíndromo\n",
    "'''Se le llama palíndromo a la palabra o frase cuyas letras están dispuestas de tal\n",
    "manera que resulta la misma leída de izquierda a derecha que de derecha a\n",
    "izquierda. Por ejemplo:\n",
    "● Anita lava la tina\n",
    "● La ruta nos aportó otro paso natural\n",
    "Implemente un script donde el usuario ingresa una palabra o frase y determine\n",
    "si es palindromo o no.\n",
    "NOTA: Al ingresar la palabra o frase, no deberá tener acentos, tildes, diéresis y\n",
    "mayúsculas. Los espacios si están permitidos. No utilizar la función reversed(),\n",
    "y tampoco listas.'''\n",
    "\n",
    "palabra = input('Ingrese la palabra o frase para determinar si es pálindromo o no:')\n",
    "\n",
    "palabra_sin_espacios = palabra.replace(' ', '') # Busque esta parte en ina IA, ya que desconocia de como \n",
    "\n",
    "es_palindromo = 1\n",
    "longitud = len(palabra_sin_espacios)\n",
    "\n",
    "for i in range(longitud // 2):\n",
    "    if palabra_sin_espacios[i] != palabra_sin_espacios[longitud - i - 1]:\n",
    "        es_palindromo = 0\n",
    "\n",
    "if es_palindromo:\n",
    "    print('La palabra o frase es palíndrome!')\n",
    "else:\n",
    "    print('La palabra o frase no es palíndrome:(')"
   ]
  },
  {
   "cell_type": "code",
   "execution_count": null,
   "id": "46948ad8-b53a-4383-858b-b4da97f78286",
   "metadata": {},
   "outputs": [],
   "source": []
  }
 ],
 "metadata": {
  "kernelspec": {
   "display_name": "Python 3 (ipykernel)",
   "language": "python",
   "name": "python3"
  },
  "language_info": {
   "codemirror_mode": {
    "name": "ipython",
    "version": 3
   },
   "file_extension": ".py",
   "mimetype": "text/x-python",
   "name": "python",
   "nbconvert_exporter": "python",
   "pygments_lexer": "ipython3",
   "version": "3.11.4"
  }
 },
 "nbformat": 4,
 "nbformat_minor": 5
}
