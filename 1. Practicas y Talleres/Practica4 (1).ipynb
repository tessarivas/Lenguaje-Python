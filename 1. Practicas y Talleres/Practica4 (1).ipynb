{
 "cells": [
  {
   "cell_type": "code",
   "execution_count": 24,
   "id": "5281ec73-0be6-4b74-b9da-e5f0aaeb4cff",
   "metadata": {
    "tags": []
   },
   "outputs": [
    {
     "name": "stdout",
     "output_type": "stream",
     "text": [
      "1\n",
      "2\n",
      "3\n",
      "4\n",
      "5\n"
     ]
    }
   ],
   "source": [
    "## 18 ##\n",
    "# Enteros del 1 al 5 ascendente, decrementando en 1.\n",
    "\n",
    "numero = 0\n",
    "\n",
    "while numero < 5:\n",
    "    numero = numero + 1\n",
    "    print(numero)"
   ]
  },
  {
   "cell_type": "code",
   "execution_count": 29,
   "id": "28784d03-529b-472c-96d0-a033ea5d14f4",
   "metadata": {
    "tags": []
   },
   "outputs": [
    {
     "name": "stdout",
     "output_type": "stream",
     "text": [
      "5\n",
      "4\n",
      "3\n",
      "2\n",
      "1\n"
     ]
    }
   ],
   "source": [
    "## 19 ##\n",
    "# Enteros del 1 al 5 descendente, decrementando en 1.\n",
    "\n",
    "numero = 5\n",
    "\n",
    "while numero > 0:\n",
    "    print(numero)\n",
    "    numero = numero - 1"
   ]
  },
  {
   "cell_type": "code",
   "execution_count": 32,
   "id": "98abf1f5-9e41-44cb-936e-bbabe33a8fcc",
   "metadata": {
    "tags": []
   },
   "outputs": [
    {
     "name": "stdout",
     "output_type": "stream",
     "text": [
      "1,2,3,4,5,"
     ]
    }
   ],
   "source": [
    "## 20 ##\n",
    "# Enteros del 1 al 5 ascendente, decrementando en 1.\n",
    "\n",
    "numero = 0\n",
    "\n",
    "while numero < 5:\n",
    "    numero = numero + 1\n",
    "    print(numero, end = ',')"
   ]
  },
  {
   "cell_type": "code",
   "execution_count": 30,
   "id": "00b7cec1-8804-47fe-9274-2046443a9b55",
   "metadata": {
    "tags": []
   },
   "outputs": [
    {
     "name": "stdout",
     "output_type": "stream",
     "text": [
      "5,4,3,2,1,"
     ]
    }
   ],
   "source": [
    "## 21 ##\n",
    "# Enteros del 1 al 5 descendente, decrementando en 1.\n",
    "\n",
    "numero = 5\n",
    "\n",
    "while numero > 0:\n",
    "    print(numero, end = ',')\n",
    "    numero = numero - 1"
   ]
  },
  {
   "cell_type": "code",
   "execution_count": 47,
   "id": "e074597c-89c6-45f0-aa77-6bb8f21ca4ae",
   "metadata": {},
   "outputs": [
    {
     "name": "stdin",
     "output_type": "stream",
     "text": [
      "Ingresar numero entero para obtener la sumatoria de: 5\n"
     ]
    },
    {
     "name": "stdout",
     "output_type": "stream",
     "text": [
      "La sumatoria es: 15\n"
     ]
    }
   ],
   "source": [
    "## 22 ##\n",
    "# Sumatoria calculada con el numero ingresado: osea si pongo 5 es 15\n",
    "\n",
    "numero = int(input('Ingresar numero entero para obtener la sumatoria de:'))\n",
    "suma = 0\n",
    "\n",
    "while numero > 0:\n",
    "    suma = suma + numero\n",
    "    numero = numero - 1\n",
    "\n",
    "print(\"La sumatoria es:\", suma)"
   ]
  },
  {
   "cell_type": "code",
   "execution_count": 4,
   "id": "1d1b4801-d998-4357-a984-e040f191ddce",
   "metadata": {
    "tags": []
   },
   "outputs": [
    {
     "name": "stdout",
     "output_type": "stream",
     "text": [
      "♥ ♥ ♥ ♥ ♥ ♥ ♥ ♥ ♥ ♥ ♥ ♥ ♥ ♥ ♥ ♥ \n",
      "♥ ♥ ♥ ♥ ♥ ♥ ♥ ♥ ♥ ♥ ♥ ♥ ♥ ♥ ♥ ♥ \n",
      "♥ ♥ ♥ ♥ ♥ ♥ ♥ ♥ ♥ ♥ ♥ ♥ ♥ ♥ ♥ ♥ \n",
      "♥ ♥ ♥ ♥ ♥ ♥ ♥ ♥ ♥ ♥ ♥ ♥ ♥ ♥ ♥ ♥ \n",
      "♥ ♥ ♥ ♥ ♥ ♥ ♥ ♥ ♥ ♥ ♥ ♥ ♥ ♥ ♥ ♥ \n",
      "♥ ♥ ♥ ♥ ♥ ♥ ♥ ♥ ♥ ♥ ♥ ♥ ♥ ♥ ♥ ♥ \n",
      "♥ ♥ ♥ ♥ ♥ ♥ ♥ ♥ ♥ ♥ ♥ ♥ ♥ ♥ ♥ ♥ \n",
      "♥ ♥ ♥ ♥ ♥ ♥ ♥ ♥ ♥ ♥ ♥ ♥ ♥ ♥ ♥ ♥ \n",
      "♥ ♥ ♥ ♥ ♥ ♥ ♥ ♥ ♥ ♥ ♥ ♥ ♥ ♥ ♥ ♥ \n",
      "♥ ♥ ♥ ♥ ♥ ♥ ♥ ♥ ♥ ♥ ♥ ♥ ♥ ♥ ♥ ♥ \n",
      "\n"
     ]
    }
   ],
   "source": [
    "## 23 ##\n",
    "# Hay un detalle que se debe modificar en el siguiente código en\n",
    "# Python, favor de encontrar el problema para poder ejecutar el script\n",
    "# correctamente.\n",
    "\n",
    "renglon = 0\n",
    "max_renglon = 10\n",
    "max_columna = 16\n",
    "cadena_renglon_columna = ''\n",
    "\n",
    "while renglon < max_renglon:\n",
    "    columna = 0\n",
    "    while columna < max_columna:\n",
    "        cadena_renglon_columna = cadena_renglon_columna + '♥' + ' '\n",
    "        columna = columna + 1\n",
    "    cadena_renglon_columna = cadena_renglon_columna + '\\n'\n",
    "    renglon = renglon + 1\n",
    "print(cadena_renglon_columna)"
   ]
  },
  {
   "cell_type": "code",
   "execution_count": 15,
   "id": "ad7d99c2-cc23-4307-9dd6-c3d779e35076",
   "metadata": {
    "tags": []
   },
   "outputs": [
    {
     "name": "stdin",
     "output_type": "stream",
     "text": [
      "Ingresa tu nombre completo:  tere\n",
      "Ingresa un solo caracter que quieres que rodee el texto:  *\n"
     ]
    },
    {
     "name": "stdout",
     "output_type": "stream",
     "text": [
      "********\n",
      "* tere *\n",
      "********\n"
     ]
    }
   ],
   "source": [
    "## 24 ##\n",
    "# Generar script donde el usuario ingrese dos datos de entrada, nombre y caracter que sera el marco que rodee\n",
    "# el texto, usando while y la funcion len(), salida de ejemplo:\n",
    "####################\n",
    "#Teresa Rivas Gomez#\n",
    "####################\n",
    "\n",
    "nombre_completo = input('Ingresa tu nombre completo: ')\n",
    "caracter_marco = input('Ingresa un solo caracter que quieres que rodee el texto: ')\n",
    "\n",
    "while len(caracter_marco) != 1:\n",
    "    caracter_marco = input('Ingresa un solo caracter que quieres que rodee el texto: ')\n",
    "    \n",
    "print(caracter_marco * (len(nombre_completo) + 4))\n",
    "print(caracter_marco + ' ' + nombre_completo + ' ' + caracter_marco)\n",
    "print(caracter_marco * (len(nombre_completo) + 4))    "
   ]
  },
  {
   "cell_type": "code",
   "execution_count": 21,
   "id": "f8f45df3-c8e2-4998-a78e-bbe4412e0d75",
   "metadata": {},
   "outputs": [
    {
     "name": "stdin",
     "output_type": "stream",
     "text": [
      "Ingrese un numero impar para que sea la longitud maxima del rombo: 7\n",
      "Ingrese el caracter que tendra el rombo: ♥\n"
     ]
    },
    {
     "name": "stdout",
     "output_type": "stream",
     "text": [
      "   ♥\n",
      "  ♥♥♥\n",
      " ♥♥♥♥♥\n",
      "♥♥♥♥♥♥♥\n",
      " ♥♥♥♥♥\n",
      "  ♥♥♥\n",
      "   ♥\n"
     ]
    }
   ],
   "source": [
    "## 25 ##\n",
    "# Escriba un script para que imprima una figura de rombo donde debe\n",
    "# leer un número impar de manera que especifique el número de filas\n",
    "# en el rombo y también debe leer el carácter con el que pintara el\n",
    "# rombo. La salida es la siguiente:\n",
    "\n",
    "longitud = int(input('Ingrese un numero impar para que sea la longitud maxima del rombo:'))\n",
    "caracter = input('Ingrese el caracter que tendra el rombo:')\n",
    "\n",
    "if longitud % 2 == 0:\n",
    "    print(\"Por favor, ingrese un número impar para la longitud.\")\n",
    "else:\n",
    "    i = 1\n",
    "    while i <= longitud // 2 + 1:\n",
    "        espacios = \" \" * ((longitud - (2 * i - 1)) // 2)\n",
    "        print(espacios + (caracter * (2 * i - 1)))\n",
    "        i += 1\n",
    "    \n",
    "    i = longitud // 2\n",
    "    while i >= 1:\n",
    "        espacios = \" \" * ((longitud - (2 * i - 1)) // 2)\n",
    "        print(espacios + (caracter * (2 * i - 1)))\n",
    "        i -= 1"
   ]
  },
  {
   "cell_type": "code",
   "execution_count": null,
   "id": "03dddfd9-7709-496a-bc93-76e7e80ba8b4",
   "metadata": {},
   "outputs": [],
   "source": []
  }
 ],
 "metadata": {
  "kernelspec": {
   "display_name": "Python 3 (ipykernel)",
   "language": "python",
   "name": "python3"
  },
  "language_info": {
   "codemirror_mode": {
    "name": "ipython",
    "version": 3
   },
   "file_extension": ".py",
   "mimetype": "text/x-python",
   "name": "python",
   "nbconvert_exporter": "python",
   "pygments_lexer": "ipython3",
   "version": "3.11.4"
  }
 },
 "nbformat": 4,
 "nbformat_minor": 5
}
