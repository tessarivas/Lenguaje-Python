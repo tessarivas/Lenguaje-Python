{
 "cells": [
  {
   "cell_type": "code",
   "execution_count": 3,
   "id": "d84f9715-5ebc-4ea2-b7f0-35360857be47",
   "metadata": {
    "tags": []
   },
   "outputs": [
    {
     "name": "stdout",
     "output_type": "stream",
     "text": [
      "Precio con descuento: 29.716000\n"
     ]
    }
   ],
   "source": [
    "import math\n",
    "precioProducto = 34.96\n",
    "descuento = precioProducto * 0.15\n",
    "precioConDescuento = precioProducto - descuento\n",
    "print(f'Precio con descuento: {precioConDescuento:2f}')"
   ]
  },
  {
   "cell_type": "code",
   "execution_count": 5,
   "id": "783f60ad-b06f-4fbf-aca2-51cc1668739a",
   "metadata": {},
   "outputs": [
    {
     "name": "stdout",
     "output_type": "stream",
     "text": [
      "Resultado: -0.04591836734693878\n",
      "Resultado 2: -0.04591836734693878\n"
     ]
    }
   ],
   "source": [
    "import math\n",
    "x = 2\n",
    "h = 5\n",
    "result = (((1 / (x + h)**2) - (1 / x**2)) / h)\n",
    "print(f'Resultado: {result}')\n",
    "result2 = - ((x * 2 + h) / ((x + h)**2 * x**2))\n",
    "print(f'Resultado 2: {result2}')"
   ]
  },
  {
   "cell_type": "code",
   "execution_count": null,
   "id": "79a7b081-2e67-4929-accc-a7ad7c248bda",
   "metadata": {},
   "outputs": [],
   "source": []
  }
 ],
 "metadata": {
  "kernelspec": {
   "display_name": "Python 3 (ipykernel)",
   "language": "python",
   "name": "python3"
  },
  "language_info": {
   "codemirror_mode": {
    "name": "ipython",
    "version": 3
   },
   "file_extension": ".py",
   "mimetype": "text/x-python",
   "name": "python",
   "nbconvert_exporter": "python",
   "pygments_lexer": "ipython3",
   "version": "3.11.4"
  }
 },
 "nbformat": 4,
 "nbformat_minor": 5
}
