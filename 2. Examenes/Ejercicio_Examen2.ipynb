{
 "cells": [
  {
   "cell_type": "code",
   "execution_count": 17,
   "id": "35115102-0a47-41e2-8ec6-52d44b6bc199",
   "metadata": {},
   "outputs": [
    {
     "name": "stdin",
     "output_type": "stream",
     "text": [
      "Ingrese un número impar para establecer la longitud horizontal de la base del triángulo:  7\n",
      "Ingrese el carácter que imprimirá el triángulo:  #\n"
     ]
    },
    {
     "name": "stdout",
     "output_type": "stream",
     "text": [
      "   #\n",
      "  ###\n",
      " #####\n",
      "#######\n",
      "\n"
     ]
    }
   ],
   "source": [
    "# EJERCICIO 1\n",
    "\n",
    "longitud = int(input('Ingrese un número impar para establecer la longitud horizontal de la base del triángulo: '))\n",
    "caracter = input('Ingrese el carácter que imprimirá el triángulo: ')\n",
    "\n",
    "cadena_triangulo = ''\n",
    "numero_espacio = longitud // 2\n",
    "numero_caracter = 1\n",
    "\n",
    "# para cambiar a for solo hay que decirle qie se mantenga en el rango de longitud\n",
    "for renglon_parte1 in range(longitud // 2):\n",
    "    numero_caracteres_renglon = numero_espacio + numero_caracter\n",
    "    # igual para este for\n",
    "    for columna in range(numero_caracteres_renglon):\n",
    "        if columna < numero_espacio:\n",
    "            cadena_triangulo = cadena_triangulo + ' '\n",
    "        else:\n",
    "            cadena_triangulo = cadena_triangulo + caracter\n",
    "    numero_caracter = numero_caracter + 2\n",
    "    numero_espacio = numero_espacio - 1\n",
    "    cadena_triangulo = cadena_triangulo + '\\n'\n",
    "    \n",
    "# sacamos la variable de la parte 2 ya que lo que hacia era solo determinar la segunda fila y no\n",
    "# las siguientes, asi q hice una sola variable para las partes a continuacion en el rango de la\n",
    "# longitud q se puso al inicio.\n",
    "for renglon_partes in range(longitud):\n",
    "    cadena_triangulo = cadena_triangulo + caracter\n",
    "cadena_triangulo = cadena_triangulo + '\\n'\n",
    "\n",
    "print(cadena_triangulo)"
   ]
  },
  {
   "cell_type": "code",
   "execution_count": 20,
   "id": "fc49f150-eaf9-42bf-a08a-34de29b22a43",
   "metadata": {
    "tags": []
   },
   "outputs": [
    {
     "name": "stdin",
     "output_type": "stream",
     "text": [
      "Ingrese calificación, -1 para terminar:  50\n",
      "Ingrese calificación, -1 para terminar:  90\n",
      "Ingrese calificación, -1 para terminar:  75\n",
      "Ingrese calificación, -1 para terminar:  -1\n"
     ]
    },
    {
     "name": "stdout",
     "output_type": "stream",
     "text": [
      "\n",
      "Promedio de las calificaciones capturadas del segundo examen parcial: 71\n",
      "Cantidad de alumnos aprobados en el segundo examen parcial: 2\n",
      "Cantidad de alumnos reprobados en el segundo examen parcial: 1\n",
      "El docente no obtuvo buen desempeño en el segundo parcial.\n"
     ]
    }
   ],
   "source": [
    "# EJERCICIO 2\n",
    "# Iniciañizar variables en 0 pa despues incrementar\n",
    "total = 0\n",
    "cantidad = 0\n",
    "aprobados = 0\n",
    "reprobados = 0\n",
    "\n",
    "calificacion = int(input('Ingrese calificación, -1 para terminar: '))\n",
    "# Despues hay q comprobar q si entro, y tambien que no se pasa de 100\n",
    "while calificacion != -1:\n",
    "    if 0 <= calificacion <= 100:\n",
    "        cantidad = cantidad + 1 # esta es para saber cuantas calif se pusieron\n",
    "        total = total + calificacion # aqui las vamos sumando pa que el promedio se saque mas facil\n",
    "        if calificacion >= 60:\n",
    "            aprobados = aprobados + 1\n",
    "        else:\n",
    "            reprobados = reprobados + 1\n",
    "    else:\n",
    "        # mensaje para la condicion 2\n",
    "        print('La calificación está fuera del rango establecido, por favor ingrese una calificación entre 0 y 100.')\n",
    "        # poner la calificacion para ingresar afuera del else, para seguir ciclando hasta q quieras\n",
    "    calificacion = int(input('Ingrese calificación, -1 para terminar: '))\n",
    "# otro mensaje para condicion 1\n",
    "if cantidad == 0:\n",
    "    print('No se ingresaron calificaciones.')\n",
    "else:\n",
    "    # espacio pa q no se vea pegado\n",
    "    print()\n",
    "    # totales y mensajes de salida\n",
    "    promedio = total // cantidad\n",
    "    print('Promedio de las calificaciones capturadas del segundo examen parcial:', promedio)\n",
    "    print('Cantidad de alumnos aprobados en el segundo examen parcial:', aprobados)\n",
    "    print('Cantidad de alumnos reprobados en el segundo examen parcial:', reprobados)\n",
    "    if promedio >= 90:\n",
    "        print('El docente obtuvo buen desempeño en el segundo parcial.')\n",
    "    else:\n",
    "        print('El docente no obtuvo buen desempeño en el segundo parcial.')"
   ]
  },
  {
   "cell_type": "code",
   "execution_count": null,
   "id": "589e1c8f-463d-44fb-8894-5572ec9577fe",
   "metadata": {},
   "outputs": [],
   "source": []
  }
 ],
 "metadata": {
  "kernelspec": {
   "display_name": "Python 3 (ipykernel)",
   "language": "python",
   "name": "python3"
  },
  "language_info": {
   "codemirror_mode": {
    "name": "ipython",
    "version": 3
   },
   "file_extension": ".py",
   "mimetype": "text/x-python",
   "name": "python",
   "nbconvert_exporter": "python",
   "pygments_lexer": "ipython3",
   "version": "3.11.4"
  }
 },
 "nbformat": 4,
 "nbformat_minor": 5
}
