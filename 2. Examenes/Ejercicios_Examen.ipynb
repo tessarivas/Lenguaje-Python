{
 "cells": [
  {
   "cell_type": "code",
   "execution_count": 75,
   "id": "b4651f30-75af-484e-9d68-a2fd7ee38f98",
   "metadata": {
    "tags": []
   },
   "outputs": [
    {
     "name": "stdin",
     "output_type": "stream",
     "text": [
      "Ingrese el primer numero:  3\n",
      "Ingrese el segundo numero:  3\n",
      "Ingrese el tercer numero:  3\n"
     ]
    },
    {
     "name": "stdout",
     "output_type": "stream",
     "text": [
      "Todos los numeros son iguales, por lo tanto no es importante mostrar su orden.\n"
     ]
    }
   ],
   "source": [
    "# 1. Mostrar si los tres valores son iguales o no.\n",
    "# 2. Mostrar los números en orden descendente. También debe funcionar para números duplicados.\n",
    "# 3. Solo podrá utilizar los operadores, sentencia if(anidada), símbolos y funciones vistos en clase.\n",
    "# 4. El resultado de salida debe ser idéntico al mencionado en este examen.\n",
    "\n",
    "n1 = int(input('Ingrese el primer numero: '))\n",
    "n2 = int(input('Ingrese el segundo numero: '))\n",
    "n3 = int(input('Ingrese el tercer numero: '))\n",
    "\n",
    "# sacar el menor\n",
    "menor = n1\n",
    "if n2 < menor:\n",
    "    menor = n2\n",
    "if n3 < menor:\n",
    "    menor = n3\n",
    "    \n",
    "# sacar el mayor\n",
    "mayor = n1\n",
    "if n2 > mayor:\n",
    "    mayor = n2\n",
    "if n3 > mayor:\n",
    "    mayor = n3\n",
    "    \n",
    "# sacar el del medio\n",
    "medio = n2;\n",
    "if n1 != menor:\n",
    "    if n1 != mayor:\n",
    "        medio = n1\n",
    "if n2 != menor:\n",
    "    if n2 != mayor:\n",
    "        medio = n2\n",
    "if n3 != menor:\n",
    "    if n3 != mayor:\n",
    "        medio = n3\n",
    "        \n",
    "# si no son iguales\n",
    "if mayor == medio != menor:\n",
    "    print('Los valores',mayor ,medio,'y', menor, 'no son iguales.')\n",
    "    print('El orden de los numeros en forma descendiente son: ', mayor, medio,'y', menor)\n",
    "if mayor != medio == menor:\n",
    "    print('Los valores',mayor ,medio,'y', menor, 'no son iguales.')\n",
    "    print('El orden de los numeros en forma descendiente son: ', mayor, medio,'y', menor)\n",
    "if mayor != medio != menor:\n",
    "    print('Los valores',mayor ,medio,'y', menor, 'no son iguales.')\n",
    "    print('El orden de los numeros en forma descendiente son: ', mayor, medio,'y', menor)\n",
    "\n",
    "# si son iguales\n",
    "if mayor == medio == menor:\n",
    "    print('Todos los numeros son iguales, por lo tanto no es importante mostrar su orden.')"
   ]
  },
  {
   "cell_type": "code",
   "execution_count": 74,
   "id": "2623fa87-b66e-436b-8ee1-80824fd84cb5",
   "metadata": {
    "tags": []
   },
   "outputs": [
    {
     "name": "stdin",
     "output_type": "stream",
     "text": [
      "Ingrese la cantidad de huevos obtenidos: 28\n"
     ]
    },
    {
     "name": "stdout",
     "output_type": "stream",
     "text": [
      "Se llenaron 4 carteras de 6 huevos.\n",
      "En la ultima cartera se colocaron 4 huevos.\n",
      "La cantidad de huevos adicionales que se necesitan para llenar la ultima cartera es de: 2 .\n"
     ]
    }
   ],
   "source": [
    "# Normalmente caben 6 huevos en una cartera. Escribe un script para calcular la cantidad de cajas que necesita un granjero para\n",
    "# almacenar 28 huevos. El script también determinará cuántos huevos se colocan en la última cartera sin completar y cuántos\n",
    "# huevos adicionales se necesitan para llenar esta última cartera.\n",
    "\n",
    "# Se le solicita al usuario ingresar un valor(números enteros) y desplegar como resultado lo siguiente:\n",
    "# 1. Los datos de salida deben ser idénticos a los mencionados en las imágenes de abajo de este examen.\n",
    "# 2. Solo podrá utilizar los operadores, sentencia if(estructura de selección if sencilla), símbolos y funciones integradas\n",
    "# vistas en clase.\n",
    "# 3. Podrá anidar la sentencia de selección if sencillas en este ejercicio.huevos = int(input('Ingresa la cantidad de huevos obtenidos:'))\n",
    "\n",
    "huevos = int(input('Ingrese la cantidad de huevos obtenidos:'))\n",
    "\n",
    "if huevos <= 5:\n",
    "    print('La cantidad de huevos que se necesitan para llenar una cartera es de:', 6 - huevos,'.')\n",
    "    \n",
    "if huevos == 6:\n",
    "    print('Se lleno 1 cartera de 6 huevos.')\n",
    "if huevos >= 7:\n",
    "    if huevos <= 11:\n",
    "        print('Se lleno 1 cartera de 6 huevos.')\n",
    "        print('En la ultima cartera se colocaron', huevos - 6,'huevos.')\n",
    "        print('La cantidad de huevos adicionales que se necesitan para llenar la ultima cartera es de:', 6 - (huevos - 6), '.')\n",
    "        \n",
    "if huevos == 12:\n",
    "    print('Se llenaron 2 carteras de 6 huevos.')\n",
    "if huevos >= 13:\n",
    "    if huevos <= 17:\n",
    "        print('Se llenaron 2 carteras de 6 huevos.')\n",
    "        print('En la ultima cartera se colocaron', huevos - 12,'huevos.')\n",
    "        print('La cantidad de huevos adicionales que se necesitan para llenar la ultima cartera es de:', 6 - (huevos - 12), '.')\n",
    "        \n",
    "if huevos == 18:\n",
    "    print('Se llenaron 3 carteras de 6 huevos.')\n",
    "if huevos >= 19:\n",
    "    if huevos <= 23:\n",
    "        print('Se llenaron 3 carteras de 6 huevos.')\n",
    "        print('En la ultima cartera se colocaron', huevos - 18,'huevos.')\n",
    "        print('La cantidad de huevos adicionales que se necesitan para llenar la ultima cartera es de:', 6 - (huevos - 18), '.')\n",
    "        \n",
    "if huevos == 24:\n",
    "    print('Se llenaron 4 carteras de 6 huevos.')\n",
    "if huevos >= 25:\n",
    "    if huevos < 29:\n",
    "        print('Se llenaron 4 carteras de 6 huevos.')\n",
    "        print('En la ultima cartera se colocaron', huevos - 24,'huevos.')\n",
    "        print('La cantidad de huevos adicionales que se necesitan para llenar la ultima cartera es de:', 6 - (huevos - 24), '.')\n",
    "        \n",
    "if huevos >= 29:\n",
    "    print('Se cumplieron con los 28 huevos que se ocupaban almacenar, gracias.')"
   ]
  }
 ],
 "metadata": {
  "kernelspec": {
   "display_name": "Python 3 (ipykernel)",
   "language": "python",
   "name": "python3"
  },
  "language_info": {
   "codemirror_mode": {
    "name": "ipython",
    "version": 3
   },
   "file_extension": ".py",
   "mimetype": "text/x-python",
   "name": "python",
   "nbconvert_exporter": "python",
   "pygments_lexer": "ipython3",
   "version": "3.11.4"
  }
 },
 "nbformat": 4,
 "nbformat_minor": 5
}
